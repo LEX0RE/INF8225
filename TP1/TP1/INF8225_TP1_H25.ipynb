{
  "cells": [
    {
      "cell_type": "markdown",
      "metadata": {
        "id": "OAHWMYJv4xuc"
      },
      "source": [
        "# INF8225 TP1 H25 (v2.0)\n"
      ]
    },
    {
      "cell_type": "markdown",
      "metadata": {
        "id": "qV-6EDgXO-S9"
      },
      "source": [
        "<font color=\"yellow\">\n",
        "\n",
        "Alexandre - GÉLINAS / Matricule 2083465\n",
        "\n",
        "Partie 3 réalisée: [seul(e)]\n",
        "ou avec\n",
        "[Prénom - NOM -\n",
        "Matricule ########]\n",
        "\n",
        "</font>\n",
        "\n",
        "Date limite :\n",
        "\n",
        "20h30 le 6 février 2025 (Partie 1 et 2)\n",
        "\n",
        "20h30 le 20 février 2025 (Partie 3)\n",
        "\n",
        "Remettez votre fichier Colab sur Moodle en 2 formats: **.pdf** ET **.ipynb**\n"
      ]
    },
    {
      "cell_type": "markdown",
      "metadata": {
        "id": "Jo2CPniBeytl"
      },
      "source": [
        "**Comment utiliser**:\n",
        "\n",
        "Il faut copier ce notebook dans vos dossiers pour avoir une version que vous pouvez modifier, voici deux façons de le faire:\n",
        "\n",
        "- File / Save a copy in Drive ...\n",
        "- File / Download .ipynb\n",
        "\n",
        "**Pour utiliser un GPU**\n",
        "\n",
        "Runtime / Change Runtime Type / Hardware Accelerator / GPU\n"
      ]
    },
    {
      "cell_type": "markdown",
      "metadata": {
        "id": "pCGh-NNm47Tk"
      },
      "source": [
        "# Partie 1 (16 points)\n"
      ]
    },
    {
      "cell_type": "markdown",
      "metadata": {
        "id": "r7tkIgu75Ccd"
      },
      "source": [
        "## Objectif\n",
        "\n",
        "L’objectif de la Partie 1 du travail pratique est de permettre à l’étudiant de se familiariser avec les réseaux Bayésiens et la librairie Numpy.\n"
      ]
    },
    {
      "cell_type": "markdown",
      "metadata": {
        "id": "iongVT7XRegv"
      },
      "source": [
        "## Problème\n"
      ]
    },
    {
      "cell_type": "markdown",
      "metadata": {
        "id": "tdKetLE0hVev"
      },
      "source": [
        "Considérons le réseau Bayésien ci-dessous.\n",
        "\n",
        "<img src=\"https://drive.google.com/uc?id=1QCJSfYGLJVg2-0_BO8BEHCnMEDsHSR6k\" alt=\"bayes_net\" width=\"600\"/>\n",
        "\n",
        "Ceci représente un modèle simple pour les notes à un examen (G) et sa relation avec les étudiants qui se préparent aux examens et font correctement le travail pour les devoirs (S), les étudiants qui ont des difficultés dans la vie juste avant l'examen final (D), les étudiants qui réussissent bien à un entretien technique pour un emploi axé sur le sujet du cours (R), et des étudiants qui se retrouvent sur une sorte de palmarès de leur programme (L).\n"
      ]
    },
    {
      "cell_type": "markdown",
      "metadata": {
        "id": "Twz4slZ9DY6n"
      },
      "source": [
        "## Trucs et astuces\n",
        "\n",
        "Nous utiliserons des vecteurs multidimensionnels `5d-arrays` dont les `axes` représentent:\n",
        "\n",
        "```\n",
        "axe 0 : Se préparer (S)\n",
        "axe 1 : Difficultés avant l'exam (D)\n",
        "axe 2 : Réussir l'entretien technique (R)\n",
        "axe 3 : Note dans le cours (Grade) (G)\n",
        "axe 4 : Liste d'honneur (L)\n",
        "```\n",
        "\n",
        "Chaque `axe` serait de dimension `2` ou `3`:\n",
        "\n",
        "```\n",
        "Exemple pour S:\n",
        "0 : s0\n",
        "1 : s1\n",
        "\n",
        "Exemple pour G:\n",
        "0 : g0\n",
        "1 : g1\n",
        "2 : g2\n",
        "```\n",
        "\n",
        "Quelques point à garder en tête:\n",
        "\n",
        "- Utiliser la jointe comme point de départ pour vos calculs (ne pas développer tous les termes à la main).\n",
        "- Attention à l'effet du do-operator sur le graphe.\n",
        "- L'argument \"keepdims=True\" de \"np.sum()\" vous permet conserver les mêmes indices.\n",
        "- Pour un rappel sur les probabilités conditionelles, voir: https://www.probabilitycourse.com/chapter1/1_4_0_conditional_probability.php\n"
      ]
    },
    {
      "cell_type": "markdown",
      "metadata": {
        "id": "EUjUNqVcTEXP"
      },
      "source": [
        "## 1. Complétez les tables de probabilités ci-dessous\n"
      ]
    },
    {
      "cell_type": "code",
      "execution_count": 1,
      "metadata": {
        "colab": {
          "base_uri": "https://localhost:8080/"
        },
        "id": "D-rxnQmCCCPa",
        "outputId": "05df1442-6777-4529-92c6-e886311b0a21"
      },
      "outputs": [
        {
          "name": "stdout",
          "output_type": "stream",
          "text": [
            "Pr(S)=\n",
            "[0.2 0.8]\n",
            "\n",
            "Pr(D)=\n",
            "[0.9 0.1]\n",
            "\n",
            "Pr(R|S)=\n",
            "[[0.9 0.1]\n",
            " [0.2 0.8]]\n",
            "\n",
            "Pr(G|S,D)=\n",
            "[[[0.5  0.3  0.2 ]\n",
            "  [0.9  0.08 0.02]]\n",
            "\n",
            " [[0.1  0.2  0.7 ]\n",
            "  [0.3  0.4  0.3 ]]]\n",
            "\n",
            "Pr(L|G)=\n",
            "[[0.9  0.1 ]\n",
            " [0.6  0.4 ]\n",
            " [0.01 0.99]]\n",
            "\n"
          ]
        }
      ],
      "source": [
        "import numpy as np\n",
        "np.set_printoptions(precision=5)\n",
        "\n",
        "# Les tableaux sont bâtis avec les dimensions (S, D, R, G, L)\n",
        "# et chaque dimension avec les probablités associées aux 2 ou 3 valeurs possibles ({0, 1} ou {0, 1, 2})\n",
        "\n",
        "Pr_S = np.array([0.2, 0.8]).reshape(2, 1, 1, 1, 1) # Donné en exemple\n",
        "Pr_D = np.array([0.9, 0.1]).reshape(1, 2, 1, 1, 1)\n",
        "Pr_R_given_S = np.array([0.9, 0.1, 0.2, 0.8]).reshape(2, 1, 2, 1, 1)\n",
        "Pr_G_given_SD = np.array([0.5, 0.3, 0.2, 0.9, 0.08, 0.02, 0.1, 0.2, 0.7, 0.3, 0.4, 0.3]).reshape(2, 2, 1, 3, 1)\n",
        "Pr_L_given_G = np.array([0.9, 0.1, 0.6, 0.4, 0.01, 0.99]).reshape(1, 1, 1, 3, 2)\n",
        "\n",
        "print (f\"Pr(S)=\\n{np.squeeze(Pr_S)}\\n\")\n",
        "print (f\"Pr(D)=\\n{np.squeeze(Pr_D)}\\n\")\n",
        "print (f\"Pr(R|S)=\\n{np.squeeze(Pr_R_given_S)}\\n\")\n",
        "print (f\"Pr(G|S,D)=\\n{np.squeeze(Pr_G_given_SD)}\\n\")\n",
        "print (f\"Pr(L|G)=\\n{np.squeeze(Pr_L_given_G)}\\n\")"
      ]
    },
    {
      "cell_type": "markdown",
      "metadata": {
        "id": "PHD6DX-nS6Qt"
      },
      "source": [
        "## 2. À l'aide de ces tables de probabilité conditionnelles, calculez les requêtes ci-dessous. Dans les cas où l'on compare un calcul non interventionnel à un calcul interventionnel, commentez sur l'interprétation physique des deux situations et les résultats obtenus à partir de vos modèles.\n"
      ]
    },
    {
      "cell_type": "markdown",
      "metadata": {
        "id": "f-vXI0O279sX"
      },
      "source": [
        "a) $Pr(G) = [P (G = g^0), P (G = g^1), P (G = g^2)]$\n"
      ]
    },
    {
      "cell_type": "code",
      "execution_count": 2,
      "metadata": {
        "colab": {
          "base_uri": "https://localhost:8080/"
        },
        "id": "lXWtZDsv791d",
        "outputId": "41ce69f3-62ef-4b55-b00b-e10add5e4dc7"
      },
      "outputs": [
        {
          "name": "stdout",
          "output_type": "stream",
          "text": [
            "Pr(G)=[0.204  0.2316 0.5644]\n"
          ]
        }
      ],
      "source": [
        "all =  Pr_S * Pr_D * Pr_R_given_S * Pr_G_given_SD * Pr_L_given_G\n",
        "\n",
        "answer_a = all.sum(axis=(0, 1, 2, 4))\n",
        "print(f\"Pr(G)={answer_a}\")"
      ]
    },
    {
      "cell_type": "markdown",
      "metadata": {
        "id": "k7fla36P79_G"
      },
      "source": [
        "b) $Pr(G|R = r^1)$\n"
      ]
    },
    {
      "cell_type": "code",
      "execution_count": 3,
      "metadata": {
        "colab": {
          "base_uri": "https://localhost:8080/"
        },
        "id": "1Jp2AGLa7-H_",
        "outputId": "60d8f961-4e28-4421-be45-8e6816142c12"
      },
      "outputs": [
        {
          "name": "stdout",
          "output_type": "stream",
          "text": [
            "Pr(G|R=r1)=[0.13273 0.22176 0.64552]\n"
          ]
        }
      ],
      "source": [
        "answer_b = all[:, :, 1, :, :].reshape(2, 2, 1, 3, 2).sum(axis=(0, 1, 2, 4)) / all[:, :, 1, :, :].sum()\n",
        "print(f\"Pr(G|R=r1)={answer_b}\")"
      ]
    },
    {
      "cell_type": "markdown",
      "metadata": {
        "id": "O8mt03aX7-WC"
      },
      "source": [
        "c) $Pr(G|R = r^0)$\n"
      ]
    },
    {
      "cell_type": "code",
      "execution_count": 4,
      "metadata": {
        "colab": {
          "base_uri": "https://localhost:8080/"
        },
        "id": "CCxSweb67-dx",
        "outputId": "14779e6e-7498-4cfc-c125-29a723d2c7dc"
      },
      "outputs": [
        {
          "name": "stdout",
          "output_type": "stream",
          "text": [
            "Pr(G|R=r0)=[0.34235 0.25071 0.40694]\n"
          ]
        }
      ],
      "source": [
        "answer_c = all[:, :, 0, :, :].reshape(2, 2, 1, 3, 2).sum(axis=(0, 1, 2, 4)) / all[:, :, 0, :, :].sum()\n",
        "print(f\"Pr(G|R=r0)={answer_c}\")"
      ]
    },
    {
      "cell_type": "markdown",
      "metadata": {
        "id": "dSK8ulij7-m0"
      },
      "source": [
        "d) $Pr(G|R=r^1, S=s^0)$\n"
      ]
    },
    {
      "cell_type": "code",
      "execution_count": 5,
      "metadata": {
        "colab": {
          "base_uri": "https://localhost:8080/"
        },
        "id": "cliFsd8f7-vC",
        "outputId": "3c6d9847-ba54-437b-e3f6-ad949687a978"
      },
      "outputs": [
        {
          "name": "stdout",
          "output_type": "stream",
          "text": [
            "Pr(G|R=r1, S=s0)=[0.54  0.278 0.182]\n"
          ]
        }
      ],
      "source": [
        "answer_d = all[0, :, 1, :, :].reshape(1, 2, 1, 3, 2).sum(axis=(0, 1, 2, 4)) / all[0, :, 1, :, :].sum()\n",
        "print(f\"Pr(G|R=r1, S=s0)={answer_d}\")"
      ]
    },
    {
      "cell_type": "markdown",
      "metadata": {
        "id": "zffAAOW67-5I"
      },
      "source": [
        "e) $Pr(G|R=r^0, S=s^0)$\n"
      ]
    },
    {
      "cell_type": "code",
      "execution_count": 6,
      "metadata": {
        "colab": {
          "base_uri": "https://localhost:8080/"
        },
        "id": "9zyt7TeB7_CD",
        "outputId": "feb26d74-432e-4694-c8e1-f7c41928c69e"
      },
      "outputs": [
        {
          "name": "stdout",
          "output_type": "stream",
          "text": [
            "Pr(G|R=r0, S=s0)=[0.54  0.278 0.182]\n"
          ]
        }
      ],
      "source": [
        "answer_e = all[0, :, 0, :, :].reshape(1, 2, 1, 3, 2).sum(axis=(0, 1, 2, 4)) / all[0, :, 0, :, :].sum()\n",
        "print(f\"Pr(G|R=r0, S=s0)={answer_e}\")"
      ]
    },
    {
      "cell_type": "markdown",
      "metadata": {
        "id": "PeIkZjn47_LZ"
      },
      "source": [
        "f) $Pr(R|D=d^1)$\n"
      ]
    },
    {
      "cell_type": "code",
      "execution_count": 7,
      "metadata": {
        "colab": {
          "base_uri": "https://localhost:8080/"
        },
        "id": "Yscy5bf27_Sq",
        "outputId": "b8ff8924-e344-4c79-ea52-d097f55a0d08"
      },
      "outputs": [
        {
          "name": "stdout",
          "output_type": "stream",
          "text": [
            "Pr(R|D=d1)=[0.34 0.66]\n"
          ]
        }
      ],
      "source": [
        "answer_f = all[:, 1, :, :, :].reshape(2, 1, 2, 3, 2).sum(axis=(0, 1, 3, 4)) / all[:, 1, :, :, :].sum()\n",
        "print(f\"Pr(R|D=d1)={answer_f}\")"
      ]
    },
    {
      "cell_type": "markdown",
      "metadata": {
        "id": "XbV8cFjU8TxQ"
      },
      "source": [
        "g) $Pr(R|D=d^0)$\n"
      ]
    },
    {
      "cell_type": "code",
      "execution_count": 8,
      "metadata": {
        "colab": {
          "base_uri": "https://localhost:8080/"
        },
        "id": "7jBgoNDz8T6z",
        "outputId": "1b3e321d-6002-4e16-a62a-ebf1bc22df5e"
      },
      "outputs": [
        {
          "name": "stdout",
          "output_type": "stream",
          "text": [
            "Pr(R|D=d0)=[0.34 0.66]\n"
          ]
        }
      ],
      "source": [
        "answer_g = all[:, 0, :, :, :].reshape(2, 1, 2, 3, 2).sum(axis=(0, 1, 3, 4)) / all[:, 0, :, :, :].sum()\n",
        "print(f\"Pr(R|D=d0)={answer_g}\")"
      ]
    },
    {
      "cell_type": "markdown",
      "metadata": {
        "id": "05xm-VaW8UQh"
      },
      "source": [
        "h) $Pr(R|D=d^1, G=g^2)$\n"
      ]
    },
    {
      "cell_type": "code",
      "execution_count": 9,
      "metadata": {
        "colab": {
          "base_uri": "https://localhost:8080/"
        },
        "id": "shjD8GIL8UZV",
        "outputId": "288e4ed6-e9bd-463f-e3b2-0d6cee5fbcde"
      },
      "outputs": [
        {
          "name": "stdout",
          "output_type": "stream",
          "text": [
            "Pr(R|D=d1, G=g2)=[0.21148 0.78852]\n"
          ]
        }
      ],
      "source": [
        "answer_h = all[:, 1, :, 2, :].reshape(2, 1, 2, 1, 2).sum(axis=(0, 1, 3, 4)) / all[:, 1, :, 2, :].sum()\n",
        "print(f\"Pr(R|D=d1, G=g2)={answer_h}\")"
      ]
    },
    {
      "cell_type": "markdown",
      "metadata": {
        "id": "9i2ahKAj8Umu"
      },
      "source": [
        "i) $Pr(R|D=d^0, G=g^2)$\n"
      ]
    },
    {
      "cell_type": "code",
      "execution_count": 10,
      "metadata": {
        "colab": {
          "base_uri": "https://localhost:8080/"
        },
        "id": "2nLKd4c18UuA",
        "outputId": "111d5af2-e24b-4e50-8f9c-450d1f7fb469"
      },
      "outputs": [
        {
          "name": "stdout",
          "output_type": "stream",
          "text": [
            "Pr(R|D=d0, G=g2)=[0.24667 0.75333]\n"
          ]
        }
      ],
      "source": [
        "answer_i = all[:, 0, :, 2, :].reshape(2, 1, 2, 1, 2).sum(axis=(0, 1, 3, 4)) / all[:, 0, :, 2, :].sum()\n",
        "print(f\"Pr(R|D=d0, G=g2)={answer_i}\")"
      ]
    },
    {
      "cell_type": "markdown",
      "metadata": {
        "id": "iUc0EpO18eA-"
      },
      "source": [
        "j) $Pr(R|D=d^1, L=l^1)$\n"
      ]
    },
    {
      "cell_type": "code",
      "execution_count": 11,
      "metadata": {
        "colab": {
          "base_uri": "https://localhost:8080/"
        },
        "id": "mgDLu0nJ8eM2",
        "outputId": "7ed85fff-21e6-4eb9-9bd1-3d1059c03aea"
      },
      "outputs": [
        {
          "name": "stdout",
          "output_type": "stream",
          "text": [
            "Pr(R|D=d1, L=l1)=[0.2475 0.7525]\n"
          ]
        }
      ],
      "source": [
        "answer_j = all[:, 1, :, :, 1].reshape(2, 1, 2, 3, 1).sum(axis=(0, 1, 3, 4)) / all[:, 1, :, :, 1].sum()\n",
        "print(f\"Pr(R|D=d1, L=l1)={answer_j}\")"
      ]
    },
    {
      "cell_type": "markdown",
      "metadata": {
        "id": "G2rCcDgyuo5c"
      },
      "source": [
        "k) $Pr(R|D=d^0, L=l^1)$\n"
      ]
    },
    {
      "cell_type": "code",
      "execution_count": 12,
      "metadata": {
        "colab": {
          "base_uri": "https://localhost:8080/"
        },
        "id": "dpt2RPQqvHbj",
        "outputId": "3bbb6fcc-f943-4057-fc4d-d4852ab94951"
      },
      "outputs": [
        {
          "name": "stdout",
          "output_type": "stream",
          "text": [
            "Pr(R|D=d1, L=l1)=[0.2736 0.7264]\n"
          ]
        }
      ],
      "source": [
        "answer_k = all[:, 0, :, :, 1].reshape(2, 1, 2, 3, 1).sum(axis=(0, 1, 3, 4)) / all[:, 0, :, :, 1].sum()\n",
        "print(f\"Pr(R|D=d1, L=l1)={answer_k}\")"
      ]
    },
    {
      "cell_type": "markdown",
      "metadata": {
        "id": "eiHUsWItvL2p"
      },
      "source": [
        "l) $Pr(R|do(G=g^2))$\n"
      ]
    },
    {
      "cell_type": "code",
      "execution_count": 13,
      "metadata": {
        "colab": {
          "base_uri": "https://localhost:8080/"
        },
        "id": "ag5OS3B_vT35",
        "outputId": "7f2be112-30f0-4775-a2db-ee317b580b88"
      },
      "outputs": [
        {
          "name": "stdout",
          "output_type": "stream",
          "text": [
            "Pr(R|do(G=g2))=[0.34 0.66]\n"
          ]
        }
      ],
      "source": [
        "all_without_G =  Pr_S * Pr_D * Pr_R_given_S * Pr_L_given_G\n",
        "answer_l = all_without_G[:, :, :, 2, :].reshape(2, 2, 2, 1, 2).sum(axis=(0, 1, 3, 4)) / all_without_G[:, :, :, 2, :].sum()\n",
        "print(f\"Pr(R|do(G=g2))={answer_l}\")"
      ]
    },
    {
      "cell_type": "markdown",
      "metadata": {
        "id": "Dm1JoSs51P6l"
      },
      "source": [
        "m) $Pr(R|G=g^2)$\n"
      ]
    },
    {
      "cell_type": "code",
      "execution_count": 14,
      "metadata": {
        "colab": {
          "base_uri": "https://localhost:8080/"
        },
        "id": "8lT5Bhwm1Vca",
        "outputId": "fd3d86d7-cec2-49f4-a6ce-55edd3cb7946"
      },
      "outputs": [
        {
          "name": "stdout",
          "output_type": "stream",
          "text": [
            "Pr(R|G=g2)=[0.24515 0.75485]\n"
          ]
        }
      ],
      "source": [
        "answer_m = all[:, :, :, 2, :].reshape(2, 2, 2, 1, 2).sum(axis=(0, 1, 3, 4)) / all[:, :, :, 2, :].sum()\n",
        "print(f\"Pr(R|G=g2)={answer_m}\")"
      ]
    },
    {
      "cell_type": "markdown",
      "metadata": {
        "id": "2yAntka31ZDh"
      },
      "source": [
        "n) $Pr(R)$\n"
      ]
    },
    {
      "cell_type": "code",
      "execution_count": 15,
      "metadata": {
        "colab": {
          "base_uri": "https://localhost:8080/"
        },
        "id": "3156HkiD1mNe",
        "outputId": "de7b237a-132e-4727-efc2-4b35dc969483"
      },
      "outputs": [
        {
          "name": "stdout",
          "output_type": "stream",
          "text": [
            "Pr(R=[0.34 0.66]\n"
          ]
        }
      ],
      "source": [
        "answer_n = all.sum(axis=(0, 1, 3, 4))\n",
        "print(f\"Pr(R={answer_n}\")"
      ]
    },
    {
      "cell_type": "markdown",
      "metadata": {
        "id": "wR0NIlpE1dni"
      },
      "source": [
        "o) $Pr(G|do(L=l^1))$\n"
      ]
    },
    {
      "cell_type": "code",
      "execution_count": 16,
      "metadata": {
        "colab": {
          "base_uri": "https://localhost:8080/"
        },
        "id": "N_SfC2CJ1bb7",
        "outputId": "7e8d589c-7dc7-4096-cc50-3945afecb319"
      },
      "outputs": [
        {
          "name": "stdout",
          "output_type": "stream",
          "text": [
            "Pr(G|do(L=l1))=[0.204  0.2316 0.5644]\n"
          ]
        }
      ],
      "source": [
        "all_without_L =  (Pr_S * Pr_D * Pr_R_given_S * Pr_G_given_SD).reshape(2, 2, 2, 3, 1)\n",
        "answer_o = all_without_L[:, :, :, :, 0].reshape(2, 2, 2, 3, 1).sum(axis=(0, 1, 2, 4)) / all_without_L[:, :, :, :, 0].sum()\n",
        "print(f\"Pr(G|do(L=l1))={answer_o}\")"
      ]
    },
    {
      "cell_type": "markdown",
      "metadata": {
        "id": "Ac48SDKS1x8p"
      },
      "source": [
        "p) $Pr(G=g^1|L=l^1)$\n"
      ]
    },
    {
      "cell_type": "code",
      "execution_count": 17,
      "metadata": {
        "colab": {
          "base_uri": "https://localhost:8080/"
        },
        "id": "8dNsTqjJ11P3",
        "outputId": "cb1a0790-8dc9-44dc-e3da-01f13a83ad30"
      },
      "outputs": [
        {
          "name": "stdout",
          "output_type": "stream",
          "text": [
            "Pr(G=1|L=l1)=0.13789900505510602\n"
          ]
        }
      ],
      "source": [
        "answer_p = all[:, :, :, 1, 1].reshape(2, 2, 2, 1, 1).sum() / all[:, :, :, :, 1].sum()\n",
        "print(f\"Pr(G=1|L=l1)={answer_p}\")"
      ]
    },
    {
      "cell_type": "markdown",
      "metadata": {
        "id": "cpoOrxiaHV43"
      },
      "source": [
        "**Réponse:**\n"
      ]
    },
    {
      "cell_type": "markdown",
      "metadata": {
        "id": "fqfqhDoL5CfA"
      },
      "source": [
        "# Partie 2 (20 points)\n"
      ]
    },
    {
      "cell_type": "markdown",
      "metadata": {
        "id": "ZjIVlyRq5CjA"
      },
      "source": [
        "## Objectif\n",
        "\n",
        "L’objectif de la partie 2 du travail pratique est de permettre à l’étudiant de se familiariser avec l’apprentissage automatique via la régression logistique. Nous allons donc résoudre un problème de classification d'images en utilisant l’approche de descente du gradient (gradient descent) pour optimiser la log-vraisemblance négative (negative log-likelihood) comme fonction de perte.\n",
        "\n",
        "L'algorithme à implémenter est une variation de descente de gradient qui s’appelle l’algorithme de descente de gradient stochastique par mini-ensemble (mini-batch stochastic gradient descent). Votre objectif est d’écrire un programme en Python pour optimiser les paramètres d’un modèle étant donné un ensemble de données d’apprentissage, en utilisant un ensemble de validation pour déterminer quand arrêter l'optimisation, et finalement de montrer la performance sur l’ensemble du test.\n"
      ]
    },
    {
      "cell_type": "markdown",
      "metadata": {
        "id": "vFxYYRQJ5Cnb"
      },
      "source": [
        "## Théorie: la régression logistique et le calcul du gradient\n",
        "\n",
        "Il est possible d’encoder l’information concernant l’étiquetage avec des vecteurs multinomiaux (one-hot vectors), c.-à-d. un vecteur de zéros avec un seul 1 pour indiquer quand la classe $C=k$ dans la dimension $k$. Par exemple, le vecteur $\\mathbf{y}=[0, 1, 0, \\cdots, 0]^T$ représente la deuxième classe. Les caractéristiques (features) sont données par des vecteurs $\\mathbf{x}_i \\in \\mathbb{R}^{D}$. En définissant les paramètres de notre modèle comme : $\\mathbf{W}=[\\mathbf{w}_1, \\cdots, \\mathbf{w}_K]^T$ et $\\mathbf{b}=[b_1, b_2, \\cdots  b_K]^T$ et la fonction softmax comme fonction de sortie, on peut exprimer notre modèle sous la forme :\n",
        "\\begin{eqnarray}\n",
        "p(\\mathbf{y}|\\mathbf{x})\n",
        "&=& \\frac{\\exp(\\mathbf{y}^T \\mathbf{W} \\mathbf{x} + \\mathbf{y}^T \\mathbf{b})}{\\sum*{\\mathbf{y}\\_k \\in \\mathscr{Y}} \\exp(\\mathbf{y}\\_k^T \\mathbf{W} \\mathbf{x} + \\mathbf{y}\\_k^T \\mathbf{b})}\n",
        "\\end{eqnarray}\n",
        "L'ensemble de données consiste de $n$ paires (label, input) de la forme $\\mathscr{D}:=(\\mathbf{\\tilde{y}}\\_i, \\mathbf{\\tilde{x}}\\_i)*{i=1}^n$, où nous utilisons l'astuce de redéfinir $\\mathbf{\\tilde{x}}_i = [\\mathbf{\\tilde{x}}_i^T 1]^T$ et nous redéfinissions la matrice de paramètres $\\boldsymbol{\\theta} \\in \\mathbb{R}^{K\\times(D+1)}$ (voir des notes de cours pour la relation entre $\\boldsymbol{\\theta}$ et $\\mathbf{W}$). Notre fonction de perte, la log-vraisemblance négative des données selon notre modèle est définie comme:\n",
        "\\begin{equation}\n",
        "\\mathscr{L}\\big( \\boldsymbol{\\theta}, \\mathscr{D} \\big) := -\\log \\prod*{i=1}^N P(\\mathbf{\\tilde{y}}\\_i|\\mathbf{\\tilde{x}}\\_i; \\boldsymbol{\\theta})\n",
        "\\end{equation}\n",
        "Pour cette partie du TP, nous avons calculé pour vous le gradient de la fonction de perte par rapport par rapport aux paramètres du modèle:\n",
        "\\begin{eqnarray}\n",
        "\\frac{\\partial}{\\partial \\boldsymbol{\\theta}} \\mathscr{L}\\big( \\boldsymbol{\\theta}, \\mathscr{D} \\big)\n",
        "&=& -\\sum*{i=1}^N \\frac{\\partial}{\\partial \\boldsymbol{\\theta}} \\Bigg\\{\\log \\Bigg(\\frac{\\exp(\\mathbf{\\tilde{y}}_i^T \\boldsymbol{\\theta} \\mathbf{\\tilde{x}}\\_i)}{\\sum_{\\mathbf{y}_k \\in \\mathscr{Y}} \\exp(\\mathbf{y}\\_k^T \\boldsymbol{\\theta} \\mathbf{\\tilde{x}}\\_i)} \\Bigg) \\Bigg\\} \\\\\n",
        "&=& -\\sum_{i=1}^N \\left(\\mathbf{\\tilde{y}}_i \\mathbf{\\tilde{x}}^T_i- \\sum_{\\mathbf{y}_k \\in \\mathscr{Y}} P(\\mathbf{y}\\_k|\\mathbf{\\tilde{x}}\\_i,\\boldsymbol{\\theta}) \\mathbf{y}\\_k \\mathbf{\\tilde{x}}^T_i \\right) \\\\\n",
        "&=& \\sum_{i=1}^N \\mathbf{\\hat{p}}_i \\mathbf{\\tilde{x}}^T_i - \\sum_{i=1}^N \\mathbf{\\tilde{y}}\\_i \\mathbf{\\tilde{x}}^T*i\n",
        "\\end{eqnarray}\n",
        "où $\\mathbf{\\hat{p}}_i$ est un vecteur de probabilités produit par le modèle pour l'exemple $\\mathbf{\\tilde{x}}_i$ et $\\mathbf{\\tilde{y}}_i$ est le vrai \\_label* pour ce même exemple.\n",
        "\n",
        "Finalement, il reste à discuter de l'évaluation du modèle. Pour la tâche d'intérêt, qui est une instance du problème de classification, il existe plusieurs métriques pour mesurer les performances du modèle la précision de classification, l'erreur de classification, le taux de faux/vrai positifs/négatifs, etc. Habituellement dans le contexte de l'apprentissage automatique, la précision est la plus commune.\n",
        "\n",
        "La précision est définie comme le rapport du nombre d'échantillons bien classés sur le nombre total d'échantillons à classer:\n",
        "\n",
        "$$\n",
        "\\tau_{acc} := \\frac{|\\mathscr{C}|}{|\\mathscr{D}|}\n",
        "$$\n",
        "\n",
        "où l'ensemble des échantillons bien classés $\\mathscr{C}$ est:\n",
        "\n",
        "$$\n",
        "\\mathscr{C} := \\lbrace (\\mathbf{x}, \\mathbf{y}) \\in \\mathscr{D} \\, | \\, \\underset{k}{\\arg\\max} \\, \\, P(\\cdot|\\mathbf{\\tilde{x}}_i; \\boldsymbol{\\theta})_k = \\underset{k}{\\arg\\max} \\, \\, \\tilde{y}_{i,k} \\rbrace\n",
        "$$\n",
        "\n",
        "En mots, il s'agit du sous-ensemble d'échantillons pour lesquels la classe la plus probable selon notre modèle correspond à la vraie classe.\n"
      ]
    },
    {
      "cell_type": "markdown",
      "metadata": {
        "id": "Ffr5uSLRzkkY"
      },
      "source": []
    },
    {
      "cell_type": "markdown",
      "metadata": {
        "id": "x3wjjnIDGHZj"
      },
      "source": [
        "## Description des tâches\n",
        "\n",
        "#### 1. Code à compléter\n",
        "\n",
        "On vous demande de compléter l'extrait de code ci-dessous pour résoudre ce problème. Vous devez utiliser la librairie PyTorch cette partie du TP: https://pytorch.org/docs/stable/index.html. Mettez à jour les paramètres de votre modèle avec la descente par _mini-batch_. Exécutez des expériences avec trois différents ensembles: un ensemble d’apprentissages avec 90\\% des exemples (choisis au hasard), un ensemble de validation avec 10\\%. Utilisez uniquement l'ensemble de test pour obtenir votre meilleur résultat une fois que vous pensez avoir obtenu votre meilleure stratégie pour entraîner le modèle.\n",
        "\n",
        "#### 2. Rapport à rédiger\n",
        "\n",
        "Présentez vos résultats dans un rapport. Ce rapport devrait inclure:\n",
        "\n",
        "- **Recherche d'hyperparamètres:** Faites une recherche d'hyperparamètres pour différents taux d'apprentissage, e.g. 0.1, 0.01, 0.001, et différentes tailles de mini-batch, e.g. 1, 20, 200, 1000 pour des modèles entrainés avec SGD. Présentez dans un tableau la précision finale du modèle, sur l'_ensemble de validation_, pour ces différentes combinaisons d'hyperparamètres.\n",
        "\n",
        "- **Analyse du meilleur modèle:** Pour votre meilleur modèle, présentez deux figures montrant la progression de son apprentissage sur l'_ensembe d'entrainement et l'ensemble de validation_. La première figure montrant les courbes de log-vraisemblance négative moyenne après chaque epoch, la deuxième montrant la précision du modèle après chaque epoch. Finalement donnez la précision finale sur l'ensemble de test.\n",
        "\n",
        "- **Lire l'article de recherche -\n",
        "  Adam**: a method for stochastic optimization. Kingma, D., \\& Ba, J. (2015). International Conference on Learning Representation (ICLR).\n",
        "  https://arxiv.org/pdf/1412.6980.pdf. Implémentez Adam, répétez les deux étapes précédentes (recherche d'hyperparamètres et analyse du meilleur modèle) cette fois en utilisat Adam, et comparez les performances finales avec votre meilleur modèle SGD.\n",
        "\n",
        "**IMPORTANT**\n",
        "\n",
        "L'objectif du TP est de vous faire implémenter la rétropropagation à la main. **Il est donc interdit d'utiliser les capacités de construction de modèles ou de différentiation automatique de pytorch -- par exemple, aucun appels à torch.nn, torch.autograd ou à la méthode .backward().** L'objectif est d'implémenter un modèle de classification logistique ainsi que son entainement en utilisant uniquement des opérations matricielles de base fournies par PyTorch e.g. torch.sum(), torch.matmul(), etc.\n"
      ]
    },
    {
      "cell_type": "markdown",
      "metadata": {
        "id": "oQq0nDgZuMfs"
      },
      "source": [
        "## Fonctions fournies\n"
      ]
    },
    {
      "cell_type": "code",
      "execution_count": 18,
      "metadata": {
        "id": "-U_jhXT_0Cbs"
      },
      "outputs": [],
      "source": [
        "# fonctions pour charger les ensembles de donnees\n",
        "from torchvision.datasets import FashionMNIST\n",
        "from torchvision import transforms\n",
        "import torch\n",
        "from torch.utils.data import DataLoader, random_split\n",
        "from tqdm import tqdm\n",
        "import matplotlib.pyplot as plt\n",
        "\n",
        "def get_fashion_mnist_dataloaders(val_percentage=0.1, batch_size=1):\n",
        "  dataset = FashionMNIST(\"./dataset\", train=True,  download=True, transform=transforms.Compose([transforms.ToTensor()]))\n",
        "  dataset_test = FashionMNIST(\"./dataset\", train=False,  download=True, transform=transforms.Compose([transforms.ToTensor()]))\n",
        "  len_train = int(len(dataset) * (1.-val_percentage))\n",
        "  len_val = len(dataset) - len_train\n",
        "  dataset_train, dataset_val = random_split(dataset, [len_train, len_val])\n",
        "  data_loader_train = DataLoader(dataset_train, batch_size=batch_size,shuffle=True,num_workers=4)\n",
        "  data_loader_val   = DataLoader(dataset_val, batch_size=batch_size,shuffle=True,num_workers=4)\n",
        "  data_loader_test  = DataLoader(dataset_test, batch_size=batch_size,shuffle=True,num_workers=4)\n",
        "  return data_loader_train, data_loader_val, data_loader_test\n",
        "\n",
        "def reshape_input(x, y):\n",
        "    x = x.view(-1, 784)\n",
        "    y = torch.FloatTensor(len(y), 10).zero_().scatter_(1,y.view(-1,1),1)\n",
        "    return x, y\n",
        "\n",
        "\n",
        "# call this once first to download the datasets\n",
        "_ = get_fashion_mnist_dataloaders()"
      ]
    },
    {
      "cell_type": "code",
      "execution_count": 19,
      "metadata": {
        "id": "9H5BnbgAOpio"
      },
      "outputs": [],
      "source": [
        "# simple logger to track progress during training\n",
        "class Logger:\n",
        "    def __init__(self):\n",
        "        self.losses_train = []\n",
        "        self.losses_valid = []\n",
        "        self.accuracies_train = []\n",
        "        self.accuracies_valid = []\n",
        "\n",
        "    def log(self, accuracy_train=0, loss_train=0, accuracy_valid=0, loss_valid=0):\n",
        "        self.losses_train.append(loss_train)\n",
        "        self.accuracies_train.append(accuracy_train)\n",
        "        self.losses_valid.append(loss_valid)\n",
        "        self.accuracies_valid.append(accuracy_valid)\n",
        "\n",
        "    def plot_loss_and_accuracy(self, train=True, valid=True):\n",
        "\n",
        "        assert train and valid, \"Cannot plot accuracy because neither train nor valid.\"\n",
        "\n",
        "        figure, (ax1, ax2) = plt.subplots(nrows=1, ncols=2,\n",
        "                                            figsize=(12, 6))\n",
        "\n",
        "        if train:\n",
        "            ax1.plot(self.losses_train, label=\"Training\")\n",
        "            ax2.plot(self.accuracies_train, label=\"Training\")\n",
        "        if valid:\n",
        "            ax1.plot(self.losses_valid, label=\"Validation\")\n",
        "            ax1.set_title(\"CrossEntropy Loss\")\n",
        "            ax2.plot(self.accuracies_valid, label=\"Validation\")\n",
        "            ax2.set_title(\"Accuracy\")\n",
        "\n",
        "        for ax in figure.axes:\n",
        "            ax.set_xlabel(\"Epoch\")\n",
        "            ax.legend(loc='best')\n",
        "            ax.set_axisbelow(True)\n",
        "            ax.minorticks_on()\n",
        "            ax.grid(True, which=\"major\", linestyle='-')\n",
        "            ax.grid(True, which=\"minor\", linestyle='--', color='lightgrey', alpha=.4)\n",
        "\n",
        "    def print_last(self):\n",
        "        print(f\"Epoch {len(self.losses_train):2d}, \\\n",
        "                Train:loss={self.losses_train[-1]:.3f}, accuracy={self.accuracies_train[-1]*100:.1f}%, \\\n",
        "                Valid: loss={self.losses_valid[-1]:.3f}, accuracy={self.losses_valid[-1]*100:.1f}%\", flush=True)"
      ]
    },
    {
      "cell_type": "markdown",
      "metadata": {
        "id": "vAJ5iiRUZw3f"
      },
      "source": [
        "## Aperçu de l'ensemble de données FashionMnist\n"
      ]
    },
    {
      "cell_type": "code",
      "execution_count": 20,
      "metadata": {
        "colab": {
          "base_uri": "https://localhost:8080/",
          "height": 278
        },
        "id": "fK-eNmc8Zv2d",
        "outputId": "c97dec17-2191-4e3d-908d-5043d7562622"
      },
      "outputs": [
        {
          "data": {
            "image/png": "[encoded data removed]",
            "text/plain": [
              "<Figure size 750x400 with 10 Axes>"
            ]
          },
          "metadata": {},
          "output_type": "display_data"
        }
      ],
      "source": [
        "def plot_samples():\n",
        "  a, _, _ = get_fashion_mnist_dataloaders()\n",
        "  num_row = 2\n",
        "  num_col = 5# plot images\n",
        "  num_images = num_row * num_col\n",
        "  fig, axes = plt.subplots(num_row, num_col, figsize=(1.5*num_col,2*num_row))\n",
        "  for i, (x,y) in enumerate(a):\n",
        "      if i >= num_images:\n",
        "        break\n",
        "      ax = axes[i//num_col, i%num_col]\n",
        "      x = (x.numpy().squeeze() * 255).astype(int)\n",
        "      y = y.numpy()[0]\n",
        "      ax.imshow(x, cmap='gray')\n",
        "      ax.set_title(f\"Label: {y}\")\n",
        "\n",
        "  plt.tight_layout()\n",
        "  plt.show()\n",
        "plot_samples()"
      ]
    },
    {
      "cell_type": "markdown",
      "metadata": {
        "id": "EpZ8NK8_CAqW"
      },
      "source": [
        "## Fonctions à compléter\n"
      ]
    },
    {
      "cell_type": "code",
      "execution_count": 21,
      "metadata": {
        "id": "VSc19WnyQsFv"
      },
      "outputs": [],
      "source": [
        "def accuracy(y, y_pred) :\n",
        "\t# nombre d'éléments à classifier.\n",
        "\tcard_D = torch.tensor(y.shape[0])\n",
        "\n",
        "\t# calcul du nombre d'éléments bien classifiés.\n",
        "\tcard_C = torch.sum(torch.argmax(y_pred, dim=1) == torch.argmax(y, dim=1))\n",
        "\n",
        "\t# calcul de la précision de classification.\n",
        "\tacc = torch.abs(card_C) / torch.abs(card_D)\n",
        "\n",
        "\treturn acc, (card_C, card_D)\n",
        "\n",
        "def accuracy_and_loss_whole_dataset(data_loader, model):\n",
        "\tcardinal = 0\n",
        "\tloss     = 0.\n",
        "\tn_accurate_preds  = 0.\n",
        "\n",
        "\tfor x, y in data_loader:\n",
        "\t\tx, y = reshape_input(x, y)\n",
        "\t\ty_pred                = model.forward(x)\n",
        "\t\txentrp                = cross_entropy(y, y_pred)\n",
        "\t\t_, (n_acc, n_samples) = accuracy(y, y_pred)\n",
        "\n",
        "\t\tcardinal = cardinal + n_samples\n",
        "\t\tloss     = loss + xentrp\n",
        "\t\tn_accurate_preds  = n_accurate_preds + n_acc\n",
        "\n",
        "\tloss = loss / float(cardinal)\n",
        "\tacc  = n_accurate_preds / float(cardinal)\n",
        "\n",
        "\treturn acc, loss\n",
        "\n",
        "def cross_entropy(y, y_pred):\n",
        "\t# calcul de la valeur d'entropie croisée.\n",
        "\tloss = -torch.sum(y * torch.log(torch.clamp(y_pred, 1e-12)))\n",
        "\treturn loss\n",
        "\n",
        "def softmax(x, axis=-1):\n",
        "\t# assurez vous que la fonction est numeriquement stable\n",
        "\t# e.g. softmax(torch.tensor([[1000, 10000, 100000]]))\n",
        "\t# calcul des valeurs de softmax(x)\n",
        "\tx = torch.exp(x - torch.max(x, dim=axis, keepdim=True).values)\n",
        "\tvalues = x / (torch.sum(x, dim=axis, keepdim=True) + 1e-12)\n",
        "\treturn values\n",
        "\n",
        "def inputs_tilde(x, axis=-1):\n",
        "\t# augments the inputs `x` with ones along `axis`\n",
        "\tx_tilde = torch.cat((x, torch.ones(x.shape[0], 1)), dim=axis)\n",
        "\treturn x_tilde"
      ]
    },
    {
      "cell_type": "code",
      "execution_count": 22,
      "metadata": {
        "id": "ya7J-i89GHnp"
      },
      "outputs": [],
      "source": [
        "class LinearModel:\n",
        "    def __init__(self, num_features, num_classes):\n",
        "      self.params = torch.normal(0, 0.01, (num_features + 1, num_classes))\n",
        "\n",
        "      self.t = 0\n",
        "      self.m_t = 0 # pour Adam: moyennes mobiles du gradient\n",
        "      self.v_t = 0 # pour Adam: moyennes mobiles du carré du gradient\n",
        "\n",
        "    def forward(self, x):\n",
        "      # implémenter calcul des outputs en fonction des inputs `x`.\n",
        "      inputs = inputs_tilde(x)\n",
        "      outputs = softmax(torch.matmul(inputs, self.params), axis=-1)\n",
        "      return outputs\n",
        "\n",
        "    def get_grads(self, y, y_pred, X):\n",
        "      # implémenter calcul des gradients.\n",
        "      grads = torch.matmul(inputs_tilde(X).T, y_pred - y)\n",
        "      return grads\n",
        "\n",
        "    def sgd_update(self, lr, grads):\n",
        "      # implémenter mise à jour des paramètres ici.\n",
        "      self.params -= lr * grads\n",
        "\n",
        "    def adam_update(self, lr, grads):\n",
        "      # implémenter mise à jour des paramètres ici.\n",
        "      beta_1 = 0.9\n",
        "      beta_2 = 0.999\n",
        "      epsilon = 1e-8\n",
        "      self.t += 1\n",
        "\n",
        "      self.m_t = beta_1 * self.m_t + (1 - beta_1) * grads\n",
        "      self.v_t = beta_2 * self.v_t + (1 - beta_2) * grads ** 2\n",
        "\n",
        "      m_t_hat = self.m_t / (1 - beta_1 ** self.t)\n",
        "      v_t_hat = self.v_t / (1 - beta_2 ** self.t)\n",
        "\n",
        "      self.params -= lr * m_t_hat / (torch.sqrt(v_t_hat) + epsilon)\n",
        "\n",
        "def train(model, lr=0.1, nb_epochs=10, sgd=True, data_loader_train=None, data_loader_val=None):\n",
        "    best_model = None\n",
        "    best_val_accuracy = 0\n",
        "    logger = Logger()\n",
        "\n",
        "    for epoch in range(nb_epochs+1):\n",
        "        # at epoch 0 evaluate random initial model\n",
        "        #   then for subsequent epochs, do optimize before evaluation.\n",
        "        if epoch > 0:\n",
        "          for x, y in data_loader_train:\n",
        "              x, y = reshape_input(x, y)\n",
        "              y_pred = model.forward(x)\n",
        "              loss = cross_entropy(y, y_pred)\n",
        "              grads = model.get_grads(y, y_pred, x)\n",
        "              if sgd:\n",
        "                model.sgd_update(lr, grads)\n",
        "              else:\n",
        "                model.adam_update(lr, grads)\n",
        "\n",
        "        accuracy_train, loss_train = accuracy_and_loss_whole_dataset(data_loader_train, model)\n",
        "        accuracy_val, loss_val = accuracy_and_loss_whole_dataset(data_loader_val, model)\n",
        "\n",
        "        if accuracy_val > best_val_accuracy:\n",
        "          # record the best model parameters and best validation accuracy\n",
        "          best_model = model\n",
        "          best_val_accuracy = accuracy_val\n",
        "\n",
        "        logger.log(accuracy_train, loss_train, accuracy_val, loss_val)\n",
        "        print(f\"Epoch {epoch:2d}, \\\n",
        "                Train: loss={loss_train.item():.3f}, accuracy={accuracy_train.item()*100:.1f}%, \\\n",
        "                Valid: loss={loss_val.item():.3f}, accuracy={accuracy_val.item()*100:.1f}%\", flush=True)\n",
        "\n",
        "    return best_model, best_val_accuracy, logger\n"
      ]
    },
    {
      "cell_type": "markdown",
      "metadata": {
        "id": "_zUGBmtf9pcA"
      },
      "source": [
        "## Évaluation\n"
      ]
    },
    {
      "cell_type": "markdown",
      "metadata": {
        "id": "eUuU5n979pcD"
      },
      "source": [
        "### SGD: Recherche d'hyperparamètres\n"
      ]
    },
    {
      "cell_type": "code",
      "execution_count": 24,
      "metadata": {
        "id": "4R_6Rxgq9pcE"
      },
      "outputs": [
        {
          "name": "stdout",
          "output_type": "stream",
          "text": [
            "------------------------------------------------------------------\n",
            "Training model with a learning rate of 0.1 and a batch size of 1\n",
            "Epoch  0,                 Train: loss=2.307, accuracy=11.0%,                 Valid: loss=2.307, accuracy=10.7%\n",
            "Epoch  1,                 Train: loss=2.376, accuracy=78.8%,                 Valid: loss=2.487, accuracy=78.4%\n",
            "Epoch  2,                 Train: loss=2.353, accuracy=82.7%,                 Valid: loss=2.553, accuracy=81.4%\n",
            "Epoch  3,                 Train: loss=3.367, accuracy=77.8%,                 Valid: loss=3.583, accuracy=77.0%\n",
            "Epoch  4,                 Train: loss=2.873, accuracy=78.9%,                 Valid: loss=3.212, accuracy=77.2%\n",
            "Epoch  5,                 Train: loss=2.379, accuracy=80.2%,                 Valid: loss=2.737, accuracy=78.2%\n",
            "validation accuracy = 81.433\n",
            "------------------------------------------------------------------\n",
            "Training model with a learning rate of 0.1 and a batch size of 20\n",
            "Epoch  0,                 Train: loss=2.300, accuracy=20.1%,                 Valid: loss=2.298, accuracy=20.3%\n",
            "Epoch  1,                 Train: loss=3.436, accuracy=78.3%,                 Valid: loss=3.411, accuracy=78.5%\n",
            "Epoch  2,                 Train: loss=2.922, accuracy=82.0%,                 Valid: loss=2.975, accuracy=81.8%\n",
            "Epoch  3,                 Train: loss=2.878, accuracy=83.1%,                 Valid: loss=2.967, accuracy=82.7%\n",
            "Epoch  4,                 Train: loss=2.593, accuracy=83.6%,                 Valid: loss=2.744, accuracy=83.1%\n",
            "Epoch  5,                 Train: loss=3.279, accuracy=81.4%,                 Valid: loss=3.490, accuracy=80.5%\n",
            "validation accuracy = 83.083\n",
            "------------------------------------------------------------------\n",
            "Training model with a learning rate of 0.1 and a batch size of 200\n",
            "Epoch  0,                 Train: loss=2.296, accuracy=8.8%,                 Valid: loss=2.295, accuracy=8.7%\n",
            "Epoch  1,                 Train: loss=6.226, accuracy=75.1%,                 Valid: loss=6.201, accuracy=75.1%\n",
            "Epoch  2,                 Train: loss=5.264, accuracy=78.7%,                 Valid: loss=5.321, accuracy=78.6%\n",
            "Epoch  3,                 Train: loss=7.079, accuracy=71.9%,                 Valid: loss=6.947, accuracy=72.2%\n",
            "Epoch  4,                 Train: loss=5.105, accuracy=79.0%,                 Valid: loss=5.124, accuracy=78.6%\n",
            "Epoch  5,                 Train: loss=6.629, accuracy=72.6%,                 Valid: loss=6.560, accuracy=72.6%\n",
            "validation accuracy = 78.633\n",
            "------------------------------------------------------------------\n",
            "Training model with a learning rate of 0.1 and a batch size of 1000\n",
            "Epoch  0,                 Train: loss=2.292, accuracy=9.4%,                 Valid: loss=2.289, accuracy=10.2%\n",
            "Epoch  1,                 Train: loss=6.921, accuracy=74.3%,                 Valid: loss=7.066, accuracy=73.7%\n",
            "Epoch  2,                 Train: loss=7.858, accuracy=70.8%,                 Valid: loss=7.720, accuracy=71.3%\n",
            "Epoch  3,                 Train: loss=5.097, accuracy=80.9%,                 Valid: loss=5.178, accuracy=80.5%\n",
            "Epoch  4,                 Train: loss=6.278, accuracy=76.4%,                 Valid: loss=6.186, accuracy=76.7%\n",
            "Epoch  5,                 Train: loss=6.073, accuracy=77.4%,                 Valid: loss=6.096, accuracy=77.2%\n",
            "validation accuracy = 80.517\n",
            "------------------------------------------------------------------\n",
            "Training model with a learning rate of 0.01 and a batch size of 1\n",
            "Epoch  0,                 Train: loss=2.332, accuracy=12.3%,                 Valid: loss=2.335, accuracy=11.9%\n",
            "Epoch  1,                 Train: loss=0.541, accuracy=81.9%,                 Valid: loss=0.542, accuracy=81.6%\n",
            "Epoch  2,                 Train: loss=0.461, accuracy=84.6%,                 Valid: loss=0.470, accuracy=83.7%\n",
            "Epoch  3,                 Train: loss=0.559, accuracy=83.0%,                 Valid: loss=0.550, accuracy=83.3%\n",
            "Epoch  4,                 Train: loss=0.436, accuracy=85.7%,                 Valid: loss=0.447, accuracy=85.7%\n",
            "Epoch  5,                 Train: loss=0.425, accuracy=86.0%,                 Valid: loss=0.445, accuracy=85.1%\n",
            "validation accuracy = 85.733\n",
            "------------------------------------------------------------------\n",
            "Training model with a learning rate of 0.01 and a batch size of 20\n",
            "Epoch  0,                 Train: loss=2.307, accuracy=11.5%,                 Valid: loss=2.308, accuracy=12.2%\n",
            "Epoch  1,                 Train: loss=0.719, accuracy=79.0%,                 Valid: loss=0.752, accuracy=79.0%\n",
            "Epoch  2,                 Train: loss=0.628, accuracy=83.2%,                 Valid: loss=0.661, accuracy=82.0%\n",
            "Epoch  3,                 Train: loss=0.569, accuracy=84.1%,                 Valid: loss=0.630, accuracy=82.7%\n",
            "Epoch  4,                 Train: loss=0.556, accuracy=84.4%,                 Valid: loss=0.613, accuracy=83.5%\n",
            "Epoch  5,                 Train: loss=0.519, accuracy=84.2%,                 Valid: loss=0.578, accuracy=83.1%\n",
            "validation accuracy = 83.533\n",
            "------------------------------------------------------------------\n",
            "Training model with a learning rate of 0.01 and a batch size of 200\n",
            "Epoch  0,                 Train: loss=2.291, accuracy=4.5%,                 Valid: loss=2.293, accuracy=4.3%\n",
            "Epoch  1,                 Train: loss=2.186, accuracy=80.5%,                 Valid: loss=2.250, accuracy=80.4%\n",
            "Epoch  2,                 Train: loss=2.019, accuracy=76.4%,                 Valid: loss=2.130, accuracy=75.7%\n",
            "Epoch  3,                 Train: loss=4.051, accuracy=72.9%,                 Valid: loss=4.249, accuracy=71.9%\n",
            "Epoch  4,                 Train: loss=1.768, accuracy=81.2%,                 Valid: loss=1.854, accuracy=80.6%\n",
            "Epoch  5,                 Train: loss=1.958, accuracy=81.6%,                 Valid: loss=2.064, accuracy=80.9%\n",
            "validation accuracy = 80.900\n",
            "------------------------------------------------------------------\n",
            "Training model with a learning rate of 0.01 and a batch size of 1000\n",
            "Epoch  0,                 Train: loss=2.323, accuracy=10.6%,                 Valid: loss=2.324, accuracy=10.3%\n",
            "Epoch  1,                 Train: loss=5.409, accuracy=74.5%,                 Valid: loss=5.479, accuracy=74.1%\n",
            "Epoch  2,                 Train: loss=5.486, accuracy=75.1%,                 Valid: loss=5.776, accuracy=73.9%\n",
            "Epoch  3,                 Train: loss=4.561, accuracy=77.4%,                 Valid: loss=4.563, accuracy=77.4%\n",
            "Epoch  4,                 Train: loss=5.523, accuracy=75.2%,                 Valid: loss=5.695, accuracy=74.5%\n",
            "Epoch  5,                 Train: loss=6.393, accuracy=70.7%,                 Valid: loss=5.996, accuracy=72.1%\n",
            "validation accuracy = 77.433\n",
            "------------------------------------------------------------------\n",
            "Training model with a learning rate of 0.001 and a batch size of 1\n",
            "Epoch  0,                 Train: loss=2.325, accuracy=5.3%,                 Valid: loss=2.327, accuracy=4.9%\n",
            "Epoch  1,                 Train: loss=0.538, accuracy=81.9%,                 Valid: loss=0.555, accuracy=81.3%\n",
            "Epoch  2,                 Train: loss=0.487, accuracy=83.6%,                 Valid: loss=0.509, accuracy=82.6%\n",
            "Epoch  3,                 Train: loss=0.462, accuracy=84.2%,                 Valid: loss=0.489, accuracy=82.9%\n",
            "Epoch  4,                 Train: loss=0.457, accuracy=84.2%,                 Valid: loss=0.484, accuracy=82.9%\n",
            "Epoch  5,                 Train: loss=0.433, accuracy=85.3%,                 Valid: loss=0.463, accuracy=84.1%\n",
            "validation accuracy = 84.150\n",
            "------------------------------------------------------------------\n",
            "Training model with a learning rate of 0.001 and a batch size of 20\n",
            "Epoch  0,                 Train: loss=2.292, accuracy=9.8%,                 Valid: loss=2.294, accuracy=10.1%\n",
            "Epoch  1,                 Train: loss=0.526, accuracy=82.8%,                 Valid: loss=0.521, accuracy=82.6%\n",
            "Epoch  2,                 Train: loss=0.487, accuracy=83.3%,                 Valid: loss=0.488, accuracy=83.5%\n",
            "Epoch  3,                 Train: loss=0.462, accuracy=84.4%,                 Valid: loss=0.468, accuracy=84.0%\n",
            "Epoch  4,                 Train: loss=0.447, accuracy=85.0%,                 Valid: loss=0.456, accuracy=84.6%\n",
            "Epoch  5,                 Train: loss=0.436, accuracy=85.2%,                 Valid: loss=0.448, accuracy=84.7%\n",
            "validation accuracy = 84.667\n",
            "------------------------------------------------------------------\n",
            "Training model with a learning rate of 0.001 and a batch size of 200\n",
            "Epoch  0,                 Train: loss=2.320, accuracy=5.2%,                 Valid: loss=2.319, accuracy=5.2%\n",
            "Epoch  1,                 Train: loss=0.549, accuracy=81.7%,                 Valid: loss=0.536, accuracy=81.8%\n",
            "Epoch  2,                 Train: loss=0.489, accuracy=83.4%,                 Valid: loss=0.480, accuracy=83.4%\n",
            "Epoch  3,                 Train: loss=0.475, accuracy=83.7%,                 Valid: loss=0.477, accuracy=83.2%\n",
            "Epoch  4,                 Train: loss=0.528, accuracy=82.5%,                 Valid: loss=0.530, accuracy=82.1%\n",
            "Epoch  5,                 Train: loss=0.449, accuracy=84.6%,                 Valid: loss=0.444, accuracy=84.6%\n",
            "validation accuracy = 84.633\n",
            "------------------------------------------------------------------\n",
            "Training model with a learning rate of 0.001 and a batch size of 1000\n",
            "Epoch  0,                 Train: loss=2.321, accuracy=11.9%,                 Valid: loss=2.319, accuracy=12.6%\n",
            "Epoch  1,                 Train: loss=1.937, accuracy=74.7%,                 Valid: loss=1.893, accuracy=74.8%\n",
            "Epoch  2,                 Train: loss=1.261, accuracy=76.0%,                 Valid: loss=1.272, accuracy=76.0%\n",
            "Epoch  3,                 Train: loss=2.866, accuracy=75.1%,                 Valid: loss=2.927, accuracy=74.8%\n",
            "Epoch  4,                 Train: loss=2.408, accuracy=71.8%,                 Valid: loss=2.518, accuracy=71.2%\n",
            "Epoch  5,                 Train: loss=1.632, accuracy=76.6%,                 Valid: loss=1.636, accuracy=76.7%\n",
            "validation accuracy = 76.683\n"
          ]
        }
      ],
      "source": [
        "# SGD\n",
        "# Montrez les résultats pour différents taux d'apprentissage, e.g. 0.1, 0.01, 0.001, et différentes tailles de mini-batch, e.g. 1, 20, 200, 1000.\n",
        "batch_size_list = [1, 20, 200, 1000]    # Define ranges in a list\n",
        "lr_list = [0.1, 0.01, 0.001]            # Define ranges in a list\n",
        "\n",
        "with torch.no_grad():\n",
        "  for lr in lr_list:\n",
        "    for batch_size in batch_size_list:\n",
        "      print(\"------------------------------------------------------------------\")\n",
        "      print(\"Training model with a learning rate of {0} and a batch size of {1}\".format(lr, batch_size))\n",
        "      data_loader_train, data_loader_val, data_loader_test = get_fashion_mnist_dataloaders(val_percentage=0.1, batch_size=batch_size)\n",
        "\n",
        "      model = LinearModel(num_features=784, num_classes=10)\n",
        "      _, val_accuracy, _ = train(model,lr=lr, nb_epochs=5, sgd=True, data_loader_train=data_loader_train, data_loader_val=data_loader_val)\n",
        "      print(f\"validation accuracy = {val_accuracy*100:.3f}\")"
      ]
    },
    {
      "cell_type": "markdown",
      "metadata": {
        "id": "AmvtxoLo9pcF"
      },
      "source": [
        "#### **Tableau pour la précision sur l'ensemble de validation**\n",
        "\n",
        "N.B. que les lignes correspondent aux valeurs du taux d'apprentisage et les colonnes correspondent au valeur du batch size. Les valeurs ci-dessous sont donné comme exemples; remplacez-les par les valeurs que vous avez utilisées pour votre recherche d'hyperparamètres.\n",
        "\n",
        "| learning rate\\batch_size | 1   | 20  | 200 | 1000 |\n",
        "| ------------------------ | --- | --- | --- | ---- |\n",
        "| **0.1**                  | 81.433   | 83.433   | 82.150   | 80.517    |\n",
        "| **0.01**                 | 85.733   | 83.533   | 80.900   | 77.433    |\n",
        "| **0.001**                | 84.150   | 84.667   | 84.633   | 76.683    |\n"
      ]
    },
    {
      "cell_type": "markdown",
      "metadata": {},
      "source": [
        "<font color=\"cyan\">\n",
        "En ce qui concerne nos hyperparamètres pour SGD, il semble y avoir une augmentation de la qualité de notre modèle en ayant un nombre petit comme <b>batch_size</b> et un <b>learning_rate</b> plus petit. Cependant, l'apprentissage ce modèle ayant un <b>batch_size</b> petit prend beaucoup plus de temps que ceux ayant une grande valeur.\n",
        "\n",
        "La meilleure valeur de précision que j'ai obtenu se retrouve pour un <b>batch_size</b> de <b>1</b> et un <b>learning_rate</b> de <b>0.01</b> où l'on obtient une précision d'environ <b>85.733</b>. Ce sont ces valeurs que nous prendrons pour l'analyse du modèle.\n",
        "</font>"
      ]
    },
    {
      "cell_type": "markdown",
      "metadata": {
        "id": "8PvrqlWt9pcG"
      },
      "source": [
        "### SGD: Analyse du meilleur modèle\n"
      ]
    },
    {
      "cell_type": "code",
      "execution_count": 25,
      "metadata": {
        "id": "uQ8Vc8JM9pcG"
      },
      "outputs": [
        {
          "name": "stdout",
          "output_type": "stream",
          "text": [
            "Epoch  0,                 Train: loss=2.308, accuracy=10.9%,                 Valid: loss=2.309, accuracy=10.3%\n",
            "Epoch  1,                 Train: loss=0.496, accuracy=83.5%,                 Valid: loss=0.492, accuracy=83.7%\n",
            "Epoch  2,                 Train: loss=0.509, accuracy=83.4%,                 Valid: loss=0.523, accuracy=83.1%\n",
            "Epoch  3,                 Train: loss=0.465, accuracy=84.8%,                 Valid: loss=0.475, accuracy=84.5%\n",
            "Epoch  4,                 Train: loss=0.474, accuracy=84.3%,                 Valid: loss=0.480, accuracy=83.9%\n",
            "Epoch  5,                 Train: loss=0.453, accuracy=85.0%,                 Valid: loss=0.475, accuracy=84.6%\n",
            "Best validation accuracy = 84.567\n",
            "Evaluation of the best training model over test set\n",
            "------\n",
            "Loss : 0.531\n",
            "Accuracy : 83.120\n"
          ]
        },
        {
          "data": {
            "image/png": "[encoded data removed]",
            "text/plain": [
              "<Figure size 1200x600 with 2 Axes>"
            ]
          },
          "metadata": {},
          "output_type": "display_data"
        }
      ],
      "source": [
        "# SGD\n",
        "# Montrez les résultats pour la meilleure configuration trouvez ci-dessus.\n",
        "batch_size = 1\t  # Vous devez modifier cette valeur avec la meilleur que vous avez eu.\n",
        "lr = 0.01         # Vous devez modifier cette valeur avec la meilleur que vous avez eu.\n",
        "\n",
        "with torch.no_grad():\n",
        "  data_loader_train, data_loader_val, data_loader_test = get_fashion_mnist_dataloaders(val_percentage=0.1, batch_size=batch_size)\n",
        "\n",
        "  model = LinearModel(num_features=784, num_classes=10)\n",
        "  best_model, best_val_accuracy, logger = train(model,lr=lr, nb_epochs=5, sgd=True,\n",
        "                                                data_loader_train=data_loader_train, data_loader_val=data_loader_val)\n",
        "  logger.plot_loss_and_accuracy()\n",
        "  print(f\"Best validation accuracy = {best_val_accuracy*100:.3f}\")\n",
        "\n",
        "  accuracy_test, loss_test = accuracy_and_loss_whole_dataset(data_loader_test, best_model)\n",
        "print(\"Evaluation of the best training model over test set\")\n",
        "print(\"------\")\n",
        "print(f\"Loss : {loss_test:.3f}\")\n",
        "print(f\"Accuracy : {accuracy_test*100.:.3f}\")"
      ]
    },
    {
      "cell_type": "markdown",
      "metadata": {},
      "source": [
        "<font color=\"cyan\">\n",
        "On peut voir dans le graphique que notre entrainement est extrêment efficace dans la première époque, mais se stabilise à partir de cette première époque jusqu'à la fin. Il y a donc un plateau à partir de l'époque 1 et il arrête d'optimiser, soit car il arrête d'apprendre ou qu'il a trouver un minimum valide.\n",
        "\n",
        "De plus, comme la validation et l'entraînement sont très similaire, il n'y a pas de sur-apprentissage (overfitting) ni de sous-apprentissage (underfitting) pour le moment. Cependant, on peut voir qu'à l'époque 5, il commence à avoir une légère diférence entre l'entraînement et la validation, et pourrait ainsi nous indiquer que si nous augmentons le nombre d'époque, que l'algorithme va faire une surapprentissage (overfitting) dans ces prochaines époques.\n",
        "\n",
        "Pour ce qui est des résultats, on obtient une <b>valeur de perte finale</b> de <b>0.531</b> et une <b>valeur de précision finale</b> de <b>83.120</b>\n",
        "</font>"
      ]
    },
    {
      "cell_type": "markdown",
      "metadata": {
        "id": "BOZXfA919pcH"
      },
      "source": [
        "### Adam: Recherche d'hyperparamètres\n",
        "\n",
        "Implémentez Adam, répétez les deux étapes précédentes (recherche d'hyperparamètres et analyse du meilleur modèle) cette fois en utilisat Adam, et comparez les performances finales avec votre meilleur modèle SGD.\n"
      ]
    },
    {
      "cell_type": "code",
      "execution_count": 27,
      "metadata": {
        "id": "Ze9D0Zpi9pcI"
      },
      "outputs": [
        {
          "name": "stdout",
          "output_type": "stream",
          "text": [
            "------------------------------------------------------------------\n",
            "Training model with a learning rate of 0.1 and a batch size of 1\n",
            "Epoch  0,                 Train: loss=2.300, accuracy=10.7%,                 Valid: loss=2.300, accuracy=10.9%\n",
            "Epoch  1,                 Train: loss=5.821, accuracy=77.0%,                 Valid: loss=5.820, accuracy=77.1%\n",
            "Epoch  2,                 Train: loss=4.387, accuracy=82.0%,                 Valid: loss=4.834, accuracy=80.6%\n",
            "Epoch  3,                 Train: loss=4.694, accuracy=81.1%,                 Valid: loss=4.901, accuracy=80.4%\n",
            "Epoch  4,                 Train: loss=4.329, accuracy=82.6%,                 Valid: loss=4.835, accuracy=80.6%\n",
            "Epoch  5,                 Train: loss=7.544, accuracy=70.6%,                 Valid: loss=7.638, accuracy=70.1%\n",
            "validation accuracy = 80.617\n",
            "------------------------------------------------------------------\n",
            "Training model with a learning rate of 0.1 and a batch size of 20\n",
            "Epoch  0,                 Train: loss=2.304, accuracy=6.4%,                 Valid: loss=2.306, accuracy=6.6%\n",
            "Epoch  1,                 Train: loss=3.983, accuracy=75.8%,                 Valid: loss=4.133, accuracy=74.8%\n",
            "Epoch  2,                 Train: loss=2.518, accuracy=83.4%,                 Valid: loss=2.815, accuracy=82.0%\n",
            "Epoch  3,                 Train: loss=2.901, accuracy=81.4%,                 Valid: loss=3.161, accuracy=80.0%\n",
            "Epoch  4,                 Train: loss=2.384, accuracy=84.9%,                 Valid: loss=2.802, accuracy=83.1%\n",
            "Epoch  5,                 Train: loss=2.885, accuracy=82.1%,                 Valid: loss=3.280, accuracy=80.3%\n",
            "validation accuracy = 83.133\n",
            "------------------------------------------------------------------\n",
            "Training model with a learning rate of 0.1 and a batch size of 200\n",
            "Epoch  0,                 Train: loss=2.303, accuracy=13.3%,                 Valid: loss=2.302, accuracy=13.8%\n",
            "Epoch  1,                 Train: loss=0.734, accuracy=82.5%,                 Valid: loss=0.830, accuracy=81.5%\n",
            "Epoch  2,                 Train: loss=1.342, accuracy=77.2%,                 Valid: loss=1.484, accuracy=75.9%\n",
            "Epoch  3,                 Train: loss=0.962, accuracy=83.3%,                 Valid: loss=1.123, accuracy=81.7%\n",
            "Epoch  4,                 Train: loss=1.341, accuracy=80.6%,                 Valid: loss=1.491, accuracy=79.7%\n",
            "Epoch  5,                 Train: loss=0.603, accuracy=85.7%,                 Valid: loss=0.812, accuracy=83.6%\n",
            "validation accuracy = 83.617\n",
            "------------------------------------------------------------------\n",
            "Training model with a learning rate of 0.1 and a batch size of 1000\n",
            "Epoch  0,                 Train: loss=2.297, accuracy=12.3%,                 Valid: loss=2.299, accuracy=11.4%\n",
            "Epoch  1,                 Train: loss=0.859, accuracy=81.6%,                 Valid: loss=0.855, accuracy=82.2%\n",
            "Epoch  2,                 Train: loss=0.511, accuracy=83.8%,                 Valid: loss=0.536, accuracy=83.8%\n",
            "Epoch  3,                 Train: loss=0.483, accuracy=84.2%,                 Valid: loss=0.516, accuracy=84.0%\n",
            "Epoch  4,                 Train: loss=0.846, accuracy=77.4%,                 Valid: loss=0.910, accuracy=76.7%\n",
            "Epoch  5,                 Train: loss=0.498, accuracy=84.1%,                 Valid: loss=0.541, accuracy=83.9%\n",
            "validation accuracy = 84.050\n",
            "------------------------------------------------------------------\n",
            "Training model with a learning rate of 0.01 and a batch size of 1\n",
            "Epoch  0,                 Train: loss=2.327, accuracy=4.5%,                 Valid: loss=2.327, accuracy=4.1%\n",
            "Epoch  1,                 Train: loss=2.188, accuracy=78.6%,                 Valid: loss=2.203, accuracy=78.8%\n",
            "Epoch  2,                 Train: loss=2.907, accuracy=78.1%,                 Valid: loss=3.026, accuracy=77.9%\n",
            "Epoch  3,                 Train: loss=2.540, accuracy=79.8%,                 Valid: loss=2.693, accuracy=79.4%\n",
            "Epoch  4,                 Train: loss=1.963, accuracy=81.0%,                 Valid: loss=2.214, accuracy=80.0%\n",
            "Epoch  5,                 Train: loss=2.219, accuracy=79.3%,                 Valid: loss=2.401, accuracy=78.8%\n",
            "validation accuracy = 80.017\n",
            "------------------------------------------------------------------\n",
            "Training model with a learning rate of 0.01 and a batch size of 20\n",
            "Epoch  0,                 Train: loss=2.343, accuracy=5.8%,                 Valid: loss=2.344, accuracy=6.0%\n",
            "Epoch  1,                 Train: loss=0.845, accuracy=80.9%,                 Valid: loss=0.911, accuracy=79.8%\n",
            "Epoch  2,                 Train: loss=0.592, accuracy=82.4%,                 Valid: loss=0.633, accuracy=82.3%\n",
            "Epoch  3,                 Train: loss=0.602, accuracy=83.7%,                 Valid: loss=0.686, accuracy=82.5%\n",
            "Epoch  4,                 Train: loss=0.744, accuracy=80.3%,                 Valid: loss=0.851, accuracy=78.8%\n",
            "Epoch  5,                 Train: loss=0.561, accuracy=84.8%,                 Valid: loss=0.672, accuracy=83.3%\n",
            "validation accuracy = 83.317\n",
            "------------------------------------------------------------------\n",
            "Training model with a learning rate of 0.01 and a batch size of 200\n",
            "Epoch  0,                 Train: loss=2.348, accuracy=1.9%,                 Valid: loss=2.346, accuracy=1.7%\n",
            "Epoch  1,                 Train: loss=0.445, accuracy=84.8%,                 Valid: loss=0.468, accuracy=83.6%\n",
            "Epoch  2,                 Train: loss=0.446, accuracy=85.1%,                 Valid: loss=0.480, accuracy=83.7%\n",
            "Epoch  3,                 Train: loss=0.439, accuracy=84.6%,                 Valid: loss=0.472, accuracy=83.7%\n",
            "Epoch  4,                 Train: loss=0.406, accuracy=85.9%,                 Valid: loss=0.453, accuracy=83.9%\n",
            "Epoch  5,                 Train: loss=0.444, accuracy=84.5%,                 Valid: loss=0.491, accuracy=82.5%\n",
            "validation accuracy = 83.917\n",
            "------------------------------------------------------------------\n",
            "Training model with a learning rate of 0.01 and a batch size of 1000\n",
            "Epoch  0,                 Train: loss=2.298, accuracy=11.6%,                 Valid: loss=2.300, accuracy=11.6%\n",
            "Epoch  1,                 Train: loss=0.527, accuracy=82.3%,                 Valid: loss=0.550, accuracy=82.0%\n",
            "Epoch  2,                 Train: loss=0.473, accuracy=84.0%,                 Valid: loss=0.503, accuracy=83.8%\n",
            "Epoch  3,                 Train: loss=0.447, accuracy=84.8%,                 Valid: loss=0.484, accuracy=84.3%\n",
            "Epoch  4,                 Train: loss=0.440, accuracy=85.0%,                 Valid: loss=0.481, accuracy=84.5%\n",
            "Epoch  5,                 Train: loss=0.425, accuracy=85.2%,                 Valid: loss=0.464, accuracy=84.8%\n",
            "validation accuracy = 84.800\n",
            "------------------------------------------------------------------\n",
            "Training model with a learning rate of 0.001 and a batch size of 1\n",
            "Epoch  0,                 Train: loss=2.298, accuracy=10.1%,                 Valid: loss=2.300, accuracy=10.1%\n",
            "Epoch  1,                 Train: loss=0.598, accuracy=81.2%,                 Valid: loss=0.652, accuracy=80.6%\n",
            "Epoch  2,                 Train: loss=0.480, accuracy=83.4%,                 Valid: loss=0.540, accuracy=82.2%\n",
            "Epoch  3,                 Train: loss=0.447, accuracy=85.2%,                 Valid: loss=0.529, accuracy=83.8%\n",
            "Epoch  4,                 Train: loss=0.508, accuracy=84.1%,                 Valid: loss=0.590, accuracy=83.1%\n",
            "Epoch  5,                 Train: loss=0.468, accuracy=85.2%,                 Valid: loss=0.568, accuracy=83.8%\n",
            "validation accuracy = 83.817\n",
            "------------------------------------------------------------------\n",
            "Training model with a learning rate of 0.001 and a batch size of 20\n",
            "Epoch  0,                 Train: loss=2.310, accuracy=11.6%,                 Valid: loss=2.309, accuracy=11.7%\n",
            "Epoch  1,                 Train: loss=0.462, accuracy=84.4%,                 Valid: loss=0.467, accuracy=83.7%\n",
            "Epoch  2,                 Train: loss=0.430, accuracy=85.1%,                 Valid: loss=0.439, accuracy=84.6%\n",
            "Epoch  3,                 Train: loss=0.415, accuracy=85.7%,                 Valid: loss=0.430, accuracy=84.9%\n",
            "Epoch  4,                 Train: loss=0.411, accuracy=85.8%,                 Valid: loss=0.432, accuracy=85.1%\n",
            "Epoch  5,                 Train: loss=0.394, accuracy=86.4%,                 Valid: loss=0.414, accuracy=85.4%\n",
            "validation accuracy = 85.400\n",
            "------------------------------------------------------------------\n",
            "Training model with a learning rate of 0.001 and a batch size of 200\n",
            "Epoch  0,                 Train: loss=2.293, accuracy=8.1%,                 Valid: loss=2.293, accuracy=7.9%\n",
            "Epoch  1,                 Train: loss=0.596, accuracy=80.3%,                 Valid: loss=0.572, accuracy=81.0%\n",
            "Epoch  2,                 Train: loss=0.517, accuracy=83.3%,                 Valid: loss=0.497, accuracy=83.7%\n",
            "Epoch  3,                 Train: loss=0.481, accuracy=84.0%,                 Valid: loss=0.463, accuracy=84.4%\n",
            "Epoch  4,                 Train: loss=0.464, accuracy=84.3%,                 Valid: loss=0.447, accuracy=84.9%\n",
            "Epoch  5,                 Train: loss=0.449, accuracy=85.0%,                 Valid: loss=0.434, accuracy=85.1%\n",
            "validation accuracy = 85.133\n",
            "------------------------------------------------------------------\n",
            "Training model with a learning rate of 0.001 and a batch size of 1000\n",
            "Epoch  0,                 Train: loss=2.323, accuracy=8.7%,                 Valid: loss=2.323, accuracy=8.6%\n",
            "Epoch  1,                 Train: loss=0.843, accuracy=73.3%,                 Valid: loss=0.856, accuracy=72.5%\n",
            "Epoch  2,                 Train: loss=0.693, accuracy=78.2%,                 Valid: loss=0.709, accuracy=77.0%\n",
            "Epoch  3,                 Train: loss=0.625, accuracy=80.0%,                 Valid: loss=0.642, accuracy=79.0%\n",
            "Epoch  4,                 Train: loss=0.583, accuracy=81.2%,                 Valid: loss=0.601, accuracy=80.1%\n",
            "Epoch  5,                 Train: loss=0.557, accuracy=82.0%,                 Valid: loss=0.573, accuracy=81.1%\n",
            "validation accuracy = 81.117\n"
          ]
        }
      ],
      "source": [
        "# ADAM\n",
        "# Montrez les résultats pour différents taux d'apprentissage, e.g. 0.1, 0.01, 0.001, et différentes tailles de mini-batch, e.g. 1, 20, 200, 1000.\n",
        "batch_size_list = [1, 20, 200, 1000]      # Define ranges in a list\n",
        "lr_list = [0.1, 0.01, 0.001]              # Define ranges in a list\n",
        "\n",
        "with torch.no_grad():\n",
        "  for lr in lr_list:\n",
        "    for batch_size in batch_size_list:\n",
        "      print(\"------------------------------------------------------------------\")\n",
        "      print(\"Training model with a learning rate of {0} and a batch size of {1}\".format(lr, batch_size))\n",
        "      data_loader_train, data_loader_val, data_loader_test = get_fashion_mnist_dataloaders(val_percentage=0.1, batch_size=batch_size)\n",
        "\n",
        "      model = LinearModel(num_features=784, num_classes=10)\n",
        "      _, val_accuracy, _ = train(model,lr=lr, nb_epochs=5, sgd=False, data_loader_train=data_loader_train, data_loader_val=data_loader_val)\n",
        "      print(f\"validation accuracy = {val_accuracy*100:.3f}\")"
      ]
    },
    {
      "cell_type": "markdown",
      "metadata": {
        "id": "Cr9_MzpX_CvO"
      },
      "source": [
        "#### **Tableau pour la précision sur l'ensemble de validation**\n",
        "\n",
        "N.B. que les lignes correspondent aux valeurs du taux d'apprentisage et les colonnes correspondent au valeur du batch size. Les valeurs ci-dessous sont donné comme exemples; remplacez-les par les valeurs que vous avez utilisées pour votre recherche d'hyperparamètres.\n",
        "\n",
        "| learning rate\\batch_size | 1   | 20  | 200 | 1000 |\n",
        "| ------------------------ | --- | --- | --- | ---- |\n",
        "| **0.1**                  | 80.617   | 83.133   | 83.617   | 84.050    |\n",
        "| **0.01**                 | 80.017   | 83.317   | 83.917   | 84.800    |\n",
        "| **0.001**                | 83.817   | 85.400   | 85.133   | 81.117    |\n"
      ]
    },
    {
      "cell_type": "markdown",
      "metadata": {},
      "source": [
        "<font color=\"cyan\">\n",
        "En ce qui concerne nos hyperparamètres pour Adam, il semble y avoir une augmentation de la qualité de notre modèle en ayant un nombre petit comme <b>learning_rate</b>. Pour le <b>bach_size</b>, ils semble y avoir une amélioration de la précision lorsque la valeur est plus grande, mais les résultats ne semble pas nécessairement assez concluant pour vraiment assumer que cela se produit. Il faudrait faire d'autres expériences sur le sujet, mais les expériences m'ont pris un temps assez énorme que j'ai pris la décision de ne pas en ajouté (environ 3 heures pour l'ensemble de la partie 2). Cependant, il est vrai que cela pourrait se faire un peu plus rapidement sachant qu'un <b>batch_size</b> moins élevé prendrais moins de temps pour l'algorithme.\n",
        "\n",
        "La meilleure valeur de précision que j'ai obtenu se retrouve pour un <b>batch_size</b> de <b>20</b> et un <b>learning_rate</b> de <b>0.001</b> où l'on obtient une précision d'environ <b>85.400</b>. Ce sont ces valeurs que nous prendrons pour l'analyse du modèle Adama.\n",
        "</font>"
      ]
    },
    {
      "cell_type": "markdown",
      "metadata": {
        "id": "2Me7IOblUrYw"
      },
      "source": [
        "### Adam: Analyse du meilleur modèle\n"
      ]
    },
    {
      "cell_type": "code",
      "execution_count": 28,
      "metadata": {
        "id": "Ndf_GP6XPV-U"
      },
      "outputs": [
        {
          "name": "stdout",
          "output_type": "stream",
          "text": [
            "Epoch  0,                 Train: loss=2.295, accuracy=16.8%,                 Valid: loss=2.292, accuracy=17.2%\n",
            "Epoch  1,                 Train: loss=0.472, accuracy=83.7%,                 Valid: loss=0.498, accuracy=82.8%\n",
            "Epoch  2,                 Train: loss=0.421, accuracy=85.8%,                 Valid: loss=0.450, accuracy=84.5%\n",
            "Epoch  3,                 Train: loss=0.412, accuracy=86.0%,                 Valid: loss=0.443, accuracy=84.8%\n",
            "Epoch  4,                 Train: loss=0.421, accuracy=85.5%,                 Valid: loss=0.454, accuracy=84.1%\n",
            "Epoch  5,                 Train: loss=0.404, accuracy=86.0%,                 Valid: loss=0.446, accuracy=84.6%\n",
            "Best validation accuracy = 84.800\n",
            "Evaluation of the best training model over test set\n",
            "------\n",
            "Loss : 0.464\n",
            "Accuracy : 83.870\n"
          ]
        },
        {
          "data": {
            "image/png": "[encoded data removed]",
            "text/plain": [
              "<Figure size 1200x600 with 2 Axes>"
            ]
          },
          "metadata": {},
          "output_type": "display_data"
        }
      ],
      "source": [
        "# ADAM\n",
        "# Montrez les résultats pour la meilleure configuration trouvez ci-dessus.\n",
        "batch_size = 20 \t# Vous devez modifier cette valeur avec la meilleur que vous avez eu.\n",
        "lr = 0.001         \t# Vous devez modifier cette valeur avec la meilleur que vous avez eu.\n",
        "\n",
        "with torch.no_grad():\n",
        "  data_loader_train, data_loader_val, data_loader_test = get_fashion_mnist_dataloaders(val_percentage=0.1, batch_size=batch_size)\n",
        "\n",
        "  model = LinearModel(num_features=784, num_classes=10)\n",
        "  best_model, best_val_accuracy, logger = train(model,lr=lr, nb_epochs=5, sgd=False,\n",
        "                                                data_loader_train=data_loader_train, data_loader_val=data_loader_val)\n",
        "  logger.plot_loss_and_accuracy()\n",
        "  print(f\"Best validation accuracy = {best_val_accuracy*100:.3f}\")\n",
        "\n",
        "  accuracy_test, loss_test = accuracy_and_loss_whole_dataset(data_loader_test, best_model)\n",
        "print(\"Evaluation of the best training model over test set\")\n",
        "print(\"------\")\n",
        "print(f\"Loss : {loss_test:.3f}\")\n",
        "print(f\"Accuracy : {accuracy_test*100.:.3f}\")"
      ]
    },
    {
      "cell_type": "markdown",
      "metadata": {},
      "source": [
        "<font color=\"cyan\">\n",
        "On peut voir dans le graphique que notre entrainement est extrêment efficace dans la première époque, mais se stabilise à partir de cette première époque jusqu'à la fin. Il y a donc un plateau à partir de l'époque 1 et il arrête d'optimiser, soit car il arrête d'apprendre ou qu'il a trouver un minimum valide.\n",
        "\n",
        "Cependant, notre résultat d'entrainement est plus précis que celle de notre validation. On peut ainsi dire qu'il y a un sur-apprentissage (overfitting) du modèle car celui-ci se comporte mieux sur des données d'entraînement que sur les données de validations. Il aura donc une plus grande difficulté par la suite à apprendre de nouvelle valeurs car il y aura un fort poids déjà présent par l'entrainement qu'il a eu. Dans le même ordre d'idée, l'algorithme n'est assurément pas en train de faire de sous-apprentissage (underfitting) étant dans un contexte inverse actuellement.\n",
        "\n",
        "Pour ce qui est des résultats, on obtient une <b>valeur de perte finale</b> de <b>0.464</b> et une <b>valeur de précision finale</b> de <b>83.870</b>\n",
        "</font>"
      ]
    },
    {
      "cell_type": "markdown",
      "metadata": {
        "id": "6LRkxtUD_RVd"
      },
      "source": [
        "### Analyse des Résultats\n"
      ]
    },
    {
      "cell_type": "markdown",
      "metadata": {
        "id": "8NIRJe-8_fbP"
      },
      "source": [
        "<font color=\"cyan\">\n",
        "(Voir l'ensemble des textes en bleu plus haut. Ceux-ci font parti de mon analyse, mais je trouvais plus simple de les mettre par section et de résumé par la suite pour les deux algorithmes)\n",
        "\n",
        "En somme, nos deux algorithmes d'apprentissages sont très similaire bien que celui de Adam nous donne un meilleur résultat lorsque nous prenons les meilleures valeurs de <b>batch_size</b> ains que de <b>learning_rate</b>. Comme Adam semble faire plus rapidement du sur-apprentissage (overfitting), on peut ainsi déduire qu'il apprend beaucoup plus rapidement que celui de SGD. Cependant, comme leurs valeurs sont sensiblement très similaire, on ne peut pas affirmer que l'un des algorithme est meilleur que l'autre avec uniquement les expériences que j'ai fait.\n",
        "<font>"
      ]
    },
    {
      "cell_type": "markdown",
      "metadata": {
        "id": "IficnxEMMcNo"
      },
      "source": [
        "# Partie 3 (20 points)\n",
        "\n",
        "Pour cette partie, vous pouvez travailler en groupes de 2, mais il faut écrire sa propre dérivation et soumettre son propre rapport. Si vous travaillez avec un partenaire, il faut indiquer leur nom dans votre rapport.\n"
      ]
    },
    {
      "cell_type": "markdown",
      "metadata": {
        "id": "Zmb_putke8pl"
      },
      "source": [
        "### Problème\n"
      ]
    },
    {
      "cell_type": "markdown",
      "metadata": {
        "id": "CRioLmIDMcP8"
      },
      "source": [
        "![picture](https://drive.google.com/uc?id=17_N7pIrf5pypQKiUh5cM7SX6raZUBcJC)\n",
        "\n",
        "Considérons maintenant un réseau de neurones avec une couche d'entrée avec $D=784$ unités, $L$ couches cachées, chacune avec 300 unités et un vecteur de sortie $\\mathbf{y}$ de dimension $K$. Vous avez $i = 1, .., N$ exemples dans un ensemble d'apprentissage, où chaque ${\\bf x}_i \\in \\mathbb{R}^{784}$ est un vecteur de caractéristiques (features). $\\mathbf{y}$ est un vecteur du type _one-hot_ -- un vecteur de zéros avec un seul 1 pour indiquer que la classe $C=k$ dans la dimension $k$. Par exemple, le vecteur $\\mathbf{y}=[0, 1, 0, \\cdots, 0]^T$ représente la deuxième classe. La fonction de perte est donnée par\n",
        "\\begin{equation}\n",
        "\\mathscr{L} = -\\sum*{i=1}^{N}\\sum*{k=1}^{K}y\\_{k,i}\\log (f_k( {\\bf x}\\_i ) )\n",
        "\\end{equation}\n",
        "\n",
        "La fonction d'activation de la couche finale a la forme ${\\bf f} = [f_1, ..., f_K]$ donné par la fonction d'activation softmax:\n",
        "\\begin{equation}\n",
        "f*k( {\\bf a}^{(L+1)}({\\bf x}\\_i) ) = \\frac{\\exp(a_k^{(L+1)})}{\\sum*{c=1}^{K}\\exp(a_c^{(L+1)})}, \\;\\;\\;\\;\n",
        "\\nonumber\n",
        "\\end{equation}\n",
        "\n",
        "et les couches cachées utilisent une fonction d'activation de type ReLU:\n",
        "\\begin{equation}\n",
        "{\\bf h}^{(l)}({\\bf a}^{(l)}({\\bf x}\\_i)) = \\text{ReLU}({\\bf a}^{(l)}({\\bf x}\\_i) = \\max\\Big(0, \\, \\, {\\bf a}^{(l)}({\\bf x}\\_i)\\Big)\n",
        "\\end{equation}\n",
        "\n",
        "où ${\\bf a}^{(l)}$ est le vecteur résultant du calcul de la préactivation habituelle ${\\bf a}^{(l)}={\\bf W}^{(l)}{\\bf h}^{(l-1)} + {\\bf b}^{(l)}$, qui pourrait être simplifiée à ${\\boldsymbol \\theta}^{(l)}\\tilde{\\bf h}^{(l-1)}$ en utilisant l'astuce de définir $\\tilde{\\bf h}$ comme ${\\bf h}$ avec un 1 concaténé à la fin du vecteur.\n"
      ]
    },
    {
      "cell_type": "markdown",
      "metadata": {
        "id": "PzMpz3Zse0t9"
      },
      "source": [
        "### Questions\n"
      ]
    },
    {
      "cell_type": "markdown",
      "metadata": {
        "id": "wK8gnygxMcSh"
      },
      "source": [
        "- a) (10 points) Donnez le pseudocode incluant des _calculs matriciels—vectoriels_ détaillés pour l'algorithme de rétropropagation pour calculer le gradient pour les paramètres de chaque couche **étant donné un exemple d'entraînement**.\n"
      ]
    },
    {
      "cell_type": "markdown",
      "metadata": {
        "id": "Y431_w4gMcX2"
      },
      "source": [
        "- b) (15 points)\n",
        "  Implémentez l'optimisation basée sur le gradient de ce réseau en Pytorch.\n",
        "  Utilisez le code squelette ci-dessous comme point de départ et implémentez les mathématiques de l'algorithme de rétropropagation que vous avez décrit à la question précédente. Comparez vos gradients et votre optimisation avec le même modèle optimisé avec Autograd. Lequel est le plus rapide ? Proposez quelques expériences. Utilisez encore l'ensemble de données de Fashion MNIST (voir Partie 2). **Comparez différents modèles ayant différentes largeurs (nombre d'unités) et profondeurs (nombre de couches)**. Ici encore, n'utilisez l'ensemble de test que pour votre expérience finale lorsque vous pensez avoir obtenu votre meilleur modèle.\n",
        "\n",
        "**IMPORTANT**\n",
        "\n",
        "L'objectif du TP est de vous faire implémenter la rétropropagation à la main. L'objectif est d'implémenter un modèle de classification logistique ainsi que son entainement en utilisant uniquement des opérations matricielles de base fournies par PyTorch e.g. torch.sum(), torch.matmul(), etc. **Une fois que vous avez implémenté votre modèle, vous devez le comparer avec un modèle construit en utilisant les capacités de pytorch qui permettent une différenciation automatique. Autrement dit, pour la deuxième implémentation, vous pouvez utilisertorch.nn, torch.autograd ou à la méthode .backward().** Vous pouvez utiliser l’implémentation de votre choix pour explorer différentes architectures de modèles.\n"
      ]
    },
    {
      "cell_type": "markdown",
      "metadata": {
        "id": "F1mpuG2cwER-"
      },
      "source": [
        "## Votre pseudocode:\n"
      ]
    },
    {
      "cell_type": "markdown",
      "metadata": {
        "id": "qY2X9goYwMDs"
      },
      "source": [
        "#### Algorithme de rétropopagation dans un réseau de neurones pour un exemple $\\tilde{x}_i$:\n",
        "\n",
        "<font color=\"cyan\">\n",
        "\n",
        "1. function backPropagation()\n",
        "2. &emsp;$\\Delta$ = {}\n",
        "3. &emsp;$\\frac{\\partial{L}}{\\partial{\\theta}}$ = {}\n",
        "4. &emsp;$\\Delta^{(L+1)} = \\tilde{y}_i - forward(\\tilde{x}_i) $\n",
        "5. &emsp;$\\frac{\\partial{L}}{\\partial{\\theta^{(L+1)}}} = -\\Delta^{(L+1)} {\\tilde{h}^{T}}_{(L)}$\n",
        "6. &emsp;for l = L-1 down to 1\n",
        "7. &emsp;&emsp;$\\Delta^{(l)} = \\frac{\\partial{h^{(l)}}}{\\partial{a^{(l)}}} \\theta^{T(l+1)} \\Delta^{(l+1)}$\n",
        "8. &emsp;&emsp;$\\frac{\\partial{L}}{\\partial{\\theta^{(l)}}} = -\\Delta^{(l)} {\\hat{h}^{T}}_{(l-1)}$\n",
        "9. &emsp;endfor\n",
        "10. &emsp;return $\\frac{\\partial{L}}{\\partial{\\theta}}$\n",
        "\n",
        "\n",
        "</font>"
      ]
    },
    {
      "cell_type": "markdown",
      "metadata": {
        "id": "SIQJD-TRwEdo"
      },
      "source": [
        "## Fonctions à compléter\n"
      ]
    },
    {
      "cell_type": "code",
      "execution_count": 23,
      "metadata": {
        "id": "JzIQ0S4qDPKJ"
      },
      "outputs": [],
      "source": [
        "''' Les fonctions dans cette cellule peuvent avoir les mêmes déclarations que celles de la partie 2'''\n",
        "def accuracy(y, y_pred) :\n",
        "\t# nombre d'éléments à classifier.\n",
        "\tcard_D = torch.tensor(y.shape[0])\n",
        "\n",
        "\t# calcul du nombre d'éléments bien classifiés.\n",
        "\tcard_C = torch.sum(torch.argmax(y_pred, dim=1) == torch.argmax(y, dim=1))\n",
        "\n",
        "\t# calcul de la précision de classification.\n",
        "\tacc = torch.abs(card_C) / torch.abs(card_D)\n",
        "\n",
        "\treturn acc, (card_C, card_D)\n",
        "\n",
        "def accuracy_and_loss_whole_dataset(data_loader, model):\n",
        "\tcardinal = 0\n",
        "\tloss     = 0.\n",
        "\tn_accurate_preds  = 0.\n",
        "\n",
        "\tfor x, y in data_loader:\n",
        "\t\tx, y = reshape_input(x, y)\n",
        "\t\ty_pred                = model.forward(x)\n",
        "\t\txentrp                = cross_entropy(y, y_pred)\n",
        "\t\t_, (n_acc, n_samples) = accuracy(y, y_pred)\n",
        "\n",
        "\t\tcardinal = cardinal + n_samples\n",
        "\t\tloss     = loss + xentrp\n",
        "\t\tn_accurate_preds  = n_accurate_preds + n_acc\n",
        "\n",
        "\tloss = loss / float(cardinal)\n",
        "\tacc  = n_accurate_preds / float(cardinal)\n",
        "\n",
        "\treturn acc, loss\n",
        "\n",
        "def inputs_tilde(x, axis=-1):\n",
        "\t# augments the inputs `x` with ones along `axis`\n",
        "\tx_tilde = torch.cat((x, torch.ones(x.shape[0], 1)), dim=axis)\n",
        "\treturn x_tilde\n",
        "\n",
        "def softmax(x, axis=-1):\n",
        "\t# assurez vous que la fonction est numeriquement stable\n",
        "\t# e.g. softmax(np.array([1000, 10000, 100000], ndim=2))\n",
        "\t# calcul des valeurs de softmax(x)\n",
        "\tx = torch.exp(x - torch.max(x))\n",
        "\t#x = torch.exp(x - torch.max(x, dim=axis, keepdim=True).values)\n",
        "\tvalues = x / (torch.sum(x, dim=axis, keepdim=True) + 1e-10)\n",
        "\treturn values\n",
        "\n",
        "def cross_entropy(y, y_pred):\n",
        "\t# calcul de la valeur d'entropie croisée.\n",
        "\tloss = -torch.sum(y * torch.log(torch.clamp(y_pred, 1e-10)))\n",
        "\treturn loss\n",
        "\n",
        "def softmax_cross_entropy_backward(y, y_pred):\n",
        "\t# calcul de la valeur du gradient de l'entropie croisée composée avec `softmax`\n",
        "\tvalues = y - y_pred\n",
        "\treturn values\n",
        "\n",
        "def relu_forward(x):\n",
        "\t# calcul des valeurs de relu(x)\n",
        "\tvalues = torch.max(x, torch.zeros_like(x))\n",
        "\treturn values\n",
        "\n",
        "def relu_backward(x):\n",
        "\t# calcul des valeurs du gradient de la fonction `relu`\n",
        "\tvalues = torch.where(x > 0, 1, 0)\n",
        "\treturn values\n",
        "\n",
        "\n",
        "# Model est une classe representant votre reseaux de neuronnes\n",
        "class MLPModel:\n",
        "\tdef __init__(self, n_features, n_hidden_features, n_hidden_layers, n_classes):\n",
        "\t\tself.n_features        = n_features\n",
        "\t\tself.n_hidden_features = n_hidden_features\n",
        "\t\tself.n_hidden_layers   = n_hidden_layers\n",
        "\t\tself.n_classes         = n_classes\n",
        "\n",
        "\t\t# initialiser la liste des paramètres Teta de l'estimateur.\n",
        "\t\t# self.params = [\n",
        "\t\t# \ttorch.rand((n_features + 1, n_hidden_features + 1)) * np.sqrt(2 / n_features),\n",
        "\t\t# \t*[torch.rand((n_hidden_features + 1, n_hidden_features + 1)) * np.sqrt(2 / n_hidden_features) for _ in range(n_hidden_layers - 1)],\n",
        "\t\t# \ttorch.rand((n_hidden_features + 1, n_classes)) * np.sqrt(2 / n_hidden_features)\n",
        "\t\t# ]\n",
        "\t\tself.params = [torch.normal(0, 0.1, (n_features + 1, n_hidden_features + 1)),\n",
        "                       *[torch.normal(0, 0.1, (n_hidden_features + 1, n_hidden_features + 1)) for _ in range(n_hidden_layers-1)],\n",
        "                       torch.normal(0, 0.1, (n_hidden_features + 1, n_classes))]\n",
        "\t\tprint(f\"Teta params={[p.shape for p in self.params]}\")\n",
        "\n",
        "\t\tself.a = [torch.empty(1) for _ in range(self.n_hidden_layers + 2)] # liste contenant le resultat des multiplications matricielles\n",
        "\t\tself.h = [torch.empty(1) for _ in range(self.n_hidden_layers + 2)] # liste contenant le resultat des fonctions d'activations\n",
        "\n",
        "\t\tself.t = 0\n",
        "\t\tself.m_t = 0 # pour Adam: moyennes mobiles du gradient\n",
        "\t\tself.v_t = 0 # pour Adam: moyennes mobiles du carré du gradient\n",
        "\n",
        "\tdef forward(self, x):\n",
        "\t\t# implémenter calcul des outputs en fonction des inputs `x`.\n",
        "\t\tself.h[0] = inputs_tilde(x)\n",
        "\t\tfor l in range(self.n_hidden_layers):\n",
        "\t\t\tself.a[l + 1] = self.h[l]@ self.params[l]\n",
        "\t\t\tself.h[l + 1] = relu_forward(self.a[l + 1]) #inputs_tilde(relu_forward(self.a[l + 1]))\n",
        "\n",
        "\t\tself.a[self.n_hidden_layers + 1] = self.h[self.n_hidden_layers] @ self.params[self.n_hidden_layers]\n",
        "\t\tself.h[self.n_hidden_layers + 1] = softmax(self.a[self.n_hidden_layers + 1])\n",
        "\t\t\n",
        "\t\treturn self.h[self.n_hidden_layers + 1]\n",
        "\n",
        "\tdef backward(self, y, y_pred):\n",
        "\t\t# implémenter calcul des gradients.\n",
        "\t\tgrads = [torch.empty(1) for _ in range(self.n_hidden_layers + 1)]\n",
        "\n",
        "\t\tdelta = softmax_cross_entropy_backward(y, y_pred)\n",
        "\t\tgrads[self.n_hidden_layers] = self.h[self.n_hidden_layers].T @ -delta\n",
        "\n",
        "\t\tfor l in range(self.n_hidden_layers, 0, -1):\n",
        "\t\t\tdelta =  (delta @ self.params[l].T) * relu_backward(self.a[l])\n",
        "\t\t\tgrads[l - 1] = self.h[l - 1].T @ -delta\n",
        "\n",
        "\t\treturn grads\n",
        "\n",
        "\tdef sgd_update(self, lr, grads):\n",
        "\t\t# implémenter mise à jour des paramètres ici.\n",
        "\t\tfor l in range(self.n_hidden_layers + 1):\n",
        "\t\t\tself.params[l] -= lr * grads[l]\n",
        "\n",
        "\tdef adam_update(self, lr, grads):\n",
        "\t\t# implémenter mise à jour des paramètres ici.\n",
        "\t\tbeta_1 = 0.9\n",
        "\t\tbeta_2 = 0.999\n",
        "\t\tepsilon = 1e-8\n",
        "\t\tself.t += 1\n",
        "\n",
        "\t\tfor l in range(self.n_hidden_layers + 1):\n",
        "\t\t\tself.m_t[l] = beta_1 * self.m_t[l] + (1 - beta_1) * grads[l]\n",
        "\t\t\tself.v_t[l] = beta_2 * self.v_t[l] + (1 - beta_2) * grads[l] ** 2\n",
        "\n",
        "\t\t\tm_t_hat = self.m_t[l] / (1 - beta_1 ** self.t[l])\n",
        "\t\t\tv_t_hat = self.v_t[l] / (1 - beta_2 ** self.t[l])\n",
        "\n",
        "\t\t\tself.params[l] -= lr * m_t_hat / (torch.sqrt(v_t_hat) + epsilon)\n",
        "\n",
        "def train(model, lr=0.1, nb_epochs=10, sgd=True, data_loader_train=None, data_loader_val=None):\n",
        "\tbest_model = None\n",
        "\tbest_val_accuracy = 0\n",
        "\tlogger = Logger()\n",
        "\n",
        "\tfor epoch in range(nb_epochs+1):\n",
        "\t\t# at epoch 0 evaluate random initial model\n",
        "\t\t#   then for subsequent epochs, do optimize before evaluation.\n",
        "\t\tif epoch > 0:\n",
        "\t\t\tfor x, y in data_loader_train:\n",
        "\t\t\t\tx, y = reshape_input(x, y)\n",
        "\n",
        "\t\t\t\ty_pred = model.forward(x)\n",
        "\t\t\t\tgrads  = model.backward(y, y_pred)\n",
        "\t\t\t\tif sgd:\n",
        "\t\t\t\t\tmodel.sgd_update(lr, grads)\n",
        "\t\t\t\telse:\n",
        "\t\t\t\t\tmodel.adam_update(lr, grads)\n",
        "\n",
        "\t\taccuracy_train, loss_train = accuracy_and_loss_whole_dataset(data_loader_train, model)\n",
        "\t\taccuracy_val, loss_val = accuracy_and_loss_whole_dataset(data_loader_val, model)\n",
        "\n",
        "\t\tif accuracy_val > best_val_accuracy:\n",
        "\t\t\t# record the best model parameters and best validation accuracy\n",
        "\t\t\tbest_model = model\n",
        "\t\t\tbest_val_accuracy = accuracy_val\n",
        "\n",
        "\t\tlogger.log(accuracy_train, loss_train, accuracy_val, loss_val)\n",
        "\t\tprint(f\"Epoch {epoch:2d}, \\\n",
        "\t\t\t\tTrain:loss={loss_train.item():.3f}, accuracy={accuracy_train.item()*100:.1f}%, \\\n",
        "\t\t\t\tValid: loss={loss_val.item():.3f}, accuracy={accuracy_val.item()*100:.1f}%\", flush=True)\n",
        "\n",
        "\treturn best_model, best_val_accuracy, logger"
      ]
    },
    {
      "cell_type": "markdown",
      "metadata": {
        "id": "tIe9DFvPwuQg"
      },
      "source": [
        "## Évaluation\n"
      ]
    },
    {
      "cell_type": "markdown",
      "metadata": {
        "id": "ml5jUvG9AUXK"
      },
      "source": [
        "### SGD: Recherche d'hyperparamètres\n"
      ]
    },
    {
      "cell_type": "code",
      "execution_count": null,
      "metadata": {
        "id": "fe7hyN63AUXL"
      },
      "outputs": [],
      "source": [
        "# SGD\n",
        "# Montrez les résultats pour différents nombre de couche, e.g. 1, 3, 5, et différent nombres de neurone, e.g. 25, 100, 300, 500, 1000.\n",
        "depth_list = [1, 3, 5]   # Define ranges in a list\n",
        "width_list = [25, 100, 300, 500, 1000]   # Define ranges in a list\n",
        "lr = 0.001           # Some value\n",
        "batch_size = 16   \t # Some value\n",
        "\n",
        "with torch.no_grad():\n",
        "  for depth in depth_list:\n",
        "    for width in width_list:\n",
        "      print(\"------------------------------------------------------------------\")\n",
        "      print(\"Training model with a depth of {0} layers and a width of {1} units\".format(depth, width))\n",
        "      data_loader_train, data_loader_val, data_loader_test = get_fashion_mnist_dataloaders(val_percentage=0.1, batch_size=batch_size)\n",
        "\n",
        "      MLP_model = MLPModel(n_features=784, n_hidden_features=width, n_hidden_layers=depth, n_classes=10)\n",
        "      _, val_accuracy, _ = train(MLP_model,lr=lr, nb_epochs=5, sgd=True, data_loader_train=data_loader_train, data_loader_val=data_loader_val)\n",
        "      print(f\"validation accuracy = {val_accuracy*100:.3f}\")"
      ]
    },
    {
      "cell_type": "markdown",
      "metadata": {
        "id": "QnDMqFapAUXM"
      },
      "source": [
        "#### **Tableau pour la précision sur l'ensemble de validation**\n",
        "\n",
        "N.B. que les lignes correspondent aux nombre de couche et les colonnes correspondent au nombre de neurone dans chaque couche. Les valeurs ci-dessous sont donné comme exemples; remplacez-les par les valeurs que vous avez utilisées pour votre recherche d'hyperparamètres.\n",
        "\n",
        "| depth\\width | 25  | 100 | 300 | 500 | 1000 |\n",
        "| ----------- | --- | --- | --- | --- | ---- |\n",
        "| **1**       | -   | -   | -   | -   | -    |\n",
        "| **3**       | -   | -   | -   | -   | -    |\n",
        "| **5**       | -   | -   | -   | -   | -    |\n"
      ]
    },
    {
      "cell_type": "markdown",
      "metadata": {
        "id": "2wuN-uw7AUXN"
      },
      "source": [
        "### SGD: Analyse du meilleur modèle\n"
      ]
    },
    {
      "cell_type": "code",
      "execution_count": null,
      "metadata": {
        "id": "CShZ3VB0AUXN"
      },
      "outputs": [],
      "source": [
        "# SGD\n",
        "# Montrez les résultats pour la meilleure configuration trouvez ci-dessus.\n",
        "depth = None    # TODO: Vous devez modifier cette valeur avec la meilleur que vous avez eu.\n",
        "width = None    # TODO: Vous devez modifier cette valeur avec la meilleur que vous avez eu.\n",
        "lr = None           # Some value\n",
        "batch_size = None   # Some value\n",
        "\n",
        "with torch.no_grad():\n",
        "  data_loader_train, data_loader_val, data_loader_test = get_fashion_mnist_dataloaders(val_percentage=0.1, batch_size=batch_size)\n",
        "\n",
        "  MLP_model = MLPModel(n_features=784, n_hidden_features=width, n_hidden_layers=depth, n_classes=10)\n",
        "  best_model, best_val_accuracy, logger = train(MLP_model,lr=lr, nb_epochs=5, sgd=True,\n",
        "                                                data_loader_train=data_loader_train, data_loader_val=data_loader_val)\n",
        "  logger.plot_loss_and_accuracy()\n",
        "  print(f\"Best validation accuracy = {best_val_accuracy*100:.3f}\")\n",
        "\n",
        "  accuracy_test, loss_test = accuracy_and_loss_whole_dataset(data_loader_test, best_model)\n",
        "print(\"Evaluation of the best training model over test set\")\n",
        "print(\"------\")\n",
        "print(f\"Loss : {loss_test:.3f}\")\n",
        "print(f\"Accuracy : {accuracy_test*100.:.3f}\")"
      ]
    },
    {
      "cell_type": "markdown",
      "metadata": {
        "id": "_tPLgZriAUXO"
      },
      "source": [
        "### Adam: Recherche d'hyperparamètres\n",
        "\n",
        "Implémentez Adam, répétez les deux étapes précédentes (recherche d'hyperparamètres et analyse du meilleur modèle) cette fois en utilisat Adam, et comparez les performances finales avec votre meilleur modèle SGD.\n"
      ]
    },
    {
      "cell_type": "code",
      "execution_count": null,
      "metadata": {
        "id": "tEVOh1r7AUXO"
      },
      "outputs": [],
      "source": [
        "# ADAM\n",
        "# Montrez les résultats pour différents nombre de couche, e.g. 1, 3, 5, et différent nombres de neurone, e.g. 25, 100, 300, 500, 1000.\n",
        "depth_list = None   # Define ranges in a list\n",
        "width_list = None   # Define ranges in a list\n",
        "lr = None           # Some value\n",
        "batch_size = None   # Some value\n",
        "\n",
        "with torch.no_grad():\n",
        "  for depth in depth_list:\n",
        "    for width in width_list:\n",
        "      print(\"------------------------------------------------------------------\")\n",
        "      print(\"Training model with a depth of {0} layers and a width of {1} units\".format(depth, width))\n",
        "      data_loader_train, data_loader_val, data_loader_test = get_fashion_mnist_dataloaders(val_percentage=0.1, batch_size=batch_size)\n",
        "\n",
        "      MLP_model = MLPModel(n_features=784, n_hidden_features=width, n_hidden_layers=depth, n_classes=10)\n",
        "      _, val_accuracy, _ = train(MLP_model, lr=lr, nb_epochs=5, sgd=False, data_loader_train=data_loader_train, data_loader_val=data_loader_val)\n",
        "      print(f\"validation accuracy = {val_accuracy*100:.3f}\")"
      ]
    },
    {
      "cell_type": "markdown",
      "metadata": {
        "id": "6LQ6q18CAUXP"
      },
      "source": [
        "#### **Tableau pour la précision sur l'ensemble de validation**\n",
        "\n",
        "N.B. que les lignes correspondent aux nombre de couche et les colonnes correspondent au nombre de neurone dans chaque couche. Les valeurs ci-dessous sont donné comme exemples; remplacez-les par les valeurs que vous avez utilisées pour votre recherche d'hyperparamètres.\n",
        "\n",
        "| depth\\width | 25  | 100 | 300 | 500 | 1000 |\n",
        "| ----------- | --- | --- | --- | --- | ---- |\n",
        "| **1**       | -   | -   | -   | -   | -    |\n",
        "| **3**       | -   | -   | -   | -   | -    |\n",
        "| **5**       | -   | -   | -   | -   | -    |\n"
      ]
    },
    {
      "cell_type": "markdown",
      "metadata": {
        "id": "df6Y9ziXAUXP"
      },
      "source": [
        "### Adam: Analyse du meilleur modèle\n"
      ]
    },
    {
      "cell_type": "code",
      "execution_count": null,
      "metadata": {
        "id": "uohnWTtoAUXP"
      },
      "outputs": [],
      "source": [
        "# ADAM\n",
        "# Montrez les résultats pour la meilleure configuration trouvez ci-dessus.\n",
        "depth = None    # TODO: Vous devez modifier cette valeur avec la meilleur que vous avez eu.\n",
        "width = None    # TODO: Vous devez modifier cette valeur avec la meilleur que vous avez eu.\n",
        "lr = None           # Some value\n",
        "batch_size = None   # Some value\n",
        "\n",
        "with torch.no_grad():\n",
        "  data_loader_train, data_loader_val, data_loader_test = get_fashion_mnist_dataloaders(val_percentage=0.1, batch_size=batch_size)\n",
        "\n",
        "  MLP_model = MLPModel(n_features=784, n_hidden_features=width, n_hidden_layers=depth, n_classes=10)\n",
        "  best_model, best_val_accuracy, logger = train(MLP_model,lr=lr, nb_epochs=5, sgd=False,\n",
        "                                                data_loader_train=data_loader_train, data_loader_val=data_loader_val)\n",
        "  logger.plot_loss_and_accuracy()\n",
        "  print(f\"Best validation accuracy = {best_val_accuracy*100:.3f}\")\n",
        "\n",
        "  accuracy_test, loss_test = accuracy_and_loss_whole_dataset(data_loader_test, best_model)\n",
        "print(\"Evaluation of the best training model over test set\")\n",
        "print(\"------\")\n",
        "print(f\"Loss : {loss_test:.3f}\")\n",
        "print(f\"Accuracy : {accuracy_test*100.:.3f}\")"
      ]
    },
    {
      "cell_type": "markdown",
      "metadata": {
        "id": "-wlDcZB-AUXP"
      },
      "source": [
        "### Analyse des Résultats\n"
      ]
    },
    {
      "cell_type": "markdown",
      "metadata": {
        "id": "M-Wi3CG3AUXP"
      },
      "source": [
        "Répondez içi...\n"
      ]
    }
  ],
  "metadata": {
    "colab": {
      "provenance": []
    },
    "kernelspec": {
      "display_name": ".venv",
      "language": "python",
      "name": "python3"
    },
    "language_info": {
      "codemirror_mode": {
        "name": "ipython",
        "version": 3
      },
      "file_extension": ".py",
      "mimetype": "text/x-python",
      "name": "python",
      "nbconvert_exporter": "python",
      "pygments_lexer": "ipython3",
      "version": "3.12.8"
    }
  },
  "nbformat": 4,
  "nbformat_minor": 0
}
