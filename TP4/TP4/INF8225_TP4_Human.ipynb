{
  "cells": [
    {
      "cell_type": "markdown",
      "metadata": {},
      "source": [
        "# TP4, INF8225 2025, Projet\n"
      ]
    },
    {
      "cell_type": "markdown",
      "metadata": {},
      "source": [
        "## Imports"
      ]
    },
    {
      "cell_type": "code",
      "execution_count": 1,
      "metadata": {},
      "outputs": [],
      "source": [
        "from IPython.display import clear_output\n",
        "\n",
        "%pip install torch torchvision --index-url https://download.pytorch.org/whl/cu121\n",
        "%pip install numpy\n",
        "%pip install swig\n",
        "%pip install box2d\n",
        "%pip install pygame\n",
        "%pip install gymnasium\n",
        "%pip install \"gymnasium[box2d]\"\n",
        "%pip install matplotlib\n",
        "%pip install wandb\n",
        "\n",
        "clear_output()"
      ]
    },
    {
      "cell_type": "code",
      "execution_count": null,
      "metadata": {},
      "outputs": [],
      "source": [
        "import numpy as np\n",
        "import gymnasium as gym\n",
        "import pygame"
      ]
    },
    {
      "cell_type": "markdown",
      "metadata": {},
      "source": [
        "## Implementation"
      ]
    },
    {
      "cell_type": "markdown",
      "metadata": {},
      "source": [
        "### Human Testing"
      ]
    },
    {
      "cell_type": "code",
      "execution_count": null,
      "metadata": {},
      "outputs": [],
      "source": [
        "SEED = 42\n",
        "\n",
        "env = gym.make(\"CarRacing-v3\", render_mode=\"human\", domain_randomize=False, max_episode_steps=10000, lap_complete_percent=0.95)\n",
        "obs = env.reset(seed=SEED)[0]\n",
        "\n",
        "pygame.init()\n",
        "win = pygame.display.set_mode((1000, 1000))\n",
        "pygame.display.set_caption(\"Keyboard Controller\")\n",
        "\n",
        "clock = pygame.time.Clock()\n",
        "\n",
        "running = True\n",
        "action = np.array([0.0, 0.0, 0.0])\n",
        "\n",
        "def process_keys():\n",
        "    keys = pygame.key.get_pressed()\n",
        "    steer = 0.0\n",
        "    gas = 0.0\n",
        "    brake = 0.0\n",
        "\n",
        "    if keys[pygame.K_LEFT]:\n",
        "        steer = -1.0\n",
        "    elif keys[pygame.K_RIGHT]:\n",
        "        steer = 1.0\n",
        "\n",
        "    if keys[pygame.K_UP]:\n",
        "        gas = 1.0\n",
        "    if keys[pygame.K_DOWN]:\n",
        "        brake = 1.0\n",
        "\n",
        "    return np.array([steer, gas, brake])\n",
        "\n",
        "while running:\n",
        "    for event in pygame.event.get():\n",
        "        if event.type == pygame.QUIT:\n",
        "            running = False\n",
        "\n",
        "    action = process_keys()\n",
        "    obs, reward, terminated, truncated, _ = env.step(action)\n",
        "    done = terminated or truncated\n",
        "\n",
        "    if done:\n",
        "        obs = env.reset(seed=SEED)[0]\n",
        "\n",
        "    clock.tick(60)\n",
        "\n",
        "env.close()\n",
        "pygame.quit()"
      ]
    }
  ],
  "metadata": {
    "kernelspec": {
      "display_name": ".venv",
      "language": "python",
      "name": "python3"
    },
    "language_info": {
      "codemirror_mode": {
        "name": "ipython",
        "version": 3
      },
      "file_extension": ".py",
      "mimetype": "text/x-python",
      "name": "python",
      "nbconvert_exporter": "python",
      "pygments_lexer": "ipython3",
      "version": "3.12.8"
    }
  },
  "nbformat": 4,
  "nbformat_minor": 2
}
