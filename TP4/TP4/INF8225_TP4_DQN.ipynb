{
  "cells": [
    {
      "cell_type": "markdown",
      "metadata": {
        "id": "553UZ1iuVOV7"
      },
      "source": [
        "# TP4, INF8225 2025, Projet\n"
      ]
    },
    {
      "cell_type": "markdown",
      "metadata": {
        "id": "gDjWK-m8VOV8"
      },
      "source": [
        "## Imports"
      ]
    },
    {
      "cell_type": "code",
      "execution_count": 1,
      "metadata": {
        "id": "XSGJpgj7VOV8"
      },
      "outputs": [],
      "source": [
        "from IPython.display import clear_output\n",
        "\n",
        "%pip install torch torchvision --index-url https://download.pytorch.org/whl/cu121\n",
        "%pip install numpy\n",
        "%pip install swig\n",
        "%pip install box2d\n",
        "%pip install pygame\n",
        "%pip install gymnasium\n",
        "%pip install \"gymnasium[box2d]\"\n",
        "%pip install matplotlib\n",
        "%pip install wandb\n",
        "\n",
        "clear_output()"
      ]
    },
    {
      "cell_type": "code",
      "execution_count": 17,
      "metadata": {
        "id": "fcRnqGzMVOV8"
      },
      "outputs": [],
      "source": [
        "import numpy as np\n",
        "import gymnasium as gym\n",
        "import matplotlib.pyplot as plt\n",
        "from IPython.display import HTML\n",
        "import matplotlib.animation as animation\n",
        "import torch\n",
        "import torch.nn as nn\n",
        "import torch.optim as optim\n",
        "import torchvision.transforms as T\n",
        "import random\n",
        "import os\n",
        "import wandb\n",
        "from IPython.display import clear_output\n",
        "import math\n",
        "from collections import namedtuple, deque"
      ]
    },
    {
      "cell_type": "markdown",
      "metadata": {
        "id": "28fvb3eqVOV8"
      },
      "source": [
        "### Initialisation"
      ]
    },
    {
      "cell_type": "code",
      "execution_count": 18,
      "metadata": {
        "colab": {
          "base_uri": "https://localhost:8080/"
        },
        "id": "p2wOLXAUVOV8",
        "outputId": "8867c865-36b6-4ef6-c652-c0249d8df724"
      },
      "outputs": [
        {
          "name": "stdout",
          "output_type": "stream",
          "text": [
            "True\n",
            "12.1\n",
            "NVIDIA GeForce GTX 1050\n"
          ]
        }
      ],
      "source": [
        "print(torch.cuda.is_available())\n",
        "device = torch.device(\"cuda\" if torch.cuda.is_available() else \"cpu\")\n",
        "\n",
        "print(torch.version.cuda)\n",
        "\n",
        "if torch.cuda.is_available():\n",
        "\tprint(torch.cuda.get_device_name(0))"
      ]
    },
    {
      "cell_type": "markdown",
      "metadata": {
        "id": "NCvxsgx4VOV8"
      },
      "source": [
        "## Data Declaration"
      ]
    },
    {
      "cell_type": "code",
      "execution_count": 19,
      "metadata": {
        "colab": {
          "base_uri": "https://localhost:8080/"
        },
        "id": "x2GvSSPqVOV8",
        "outputId": "c8d847fb-97bc-4aa1-b411-c2083a3ef21b"
      },
      "outputs": [],
      "source": [
        "def show_animation(env):\n",
        "\tshow_animation_frames(env.render())\n",
        "\n",
        "def show_animation_frames(frames):\n",
        "\tfig = plt.figure(figsize=(7, 5))\n",
        "\tplt.axis('off')\n",
        "\tim = plt.imshow(frames[0])\n",
        "\n",
        "\tdef animate(i):\n",
        "\t\tim.set_data(frames[i])\n",
        "\t\treturn im,\n",
        "\n",
        "\tanim = animation.FuncAnimation(fig, animate, frames=len(frames), repeat=False)\n",
        "\tplt.close(fig)\n",
        "\tdisplay(HTML(anim.to_jshtml()))\n",
        "\n",
        "def show_current_frame(env, data):\n",
        "\tframe = env.render()\n",
        "\tfig, _ = plt.subplots()\n",
        "\tr = fig.canvas.get_renderer()\n",
        "\tplt.imshow(frame)\n",
        "\tplt.axis('off')\n",
        "\ttexts = []\n",
        "\tsize_used = 0\n",
        "\tfor i, key in enumerate(data):\n",
        "\t\ttext = plt.text(0, 0, f'{key}: {data[key]}', fontsize=12, color='black', backgroundcolor='white', ha=\"center\")\n",
        "\t\tsize_used += text.get_window_extent(renderer=r).width\n",
        "\t\ttexts.append(text)\n",
        "\tsplit = (700 - size_used) / (len(data) + 1)\n",
        "\tnext_position = split\n",
        "\tfor t in texts:\n",
        "\t\tt.set_position((next_position, 0))\n",
        "\t\tnext_position = next_position + t.get_window_extent(renderer=r).width + split\n",
        "\tclear_output(wait=True)\n",
        "\tplt.show()\n",
        "\n",
        "def skip_zooming(env):\n",
        "\tno_action = 0\n",
        "\tif type(env.action_space) != gym.spaces.Discrete:\n",
        "\t\tno_action = np.zeros((env.action_space.shape[0]))\n",
        "\n",
        "\tfor _ in range(50):\n",
        "\t\tobservation, _, terminated, truncated, info = env.step(no_action)\n",
        "\n",
        "\t\tif terminated or truncated:\n",
        "\t\t\tobservation, info = env.reset()\n",
        "\t\t\tbreak\n",
        "\treturn observation, info"
      ]
    },
    {
      "cell_type": "markdown",
      "metadata": {
        "id": "oYfc-8GFVOV9"
      },
      "source": [
        "### Helper Function"
      ]
    },
    {
      "cell_type": "code",
      "execution_count": 20,
      "metadata": {
        "id": "KSkwQhR8VOV9"
      },
      "outputs": [],
      "source": [
        "transform = T.Compose([\n",
        "\tT.ToPILImage(),\n",
        "\tT.Grayscale(num_output_channels=1),\n",
        "\tT.Resize((84, 84)),\n",
        "\tT.ToTensor(),\n",
        "\tT.Normalize((0.5,), (0.5,))\n",
        "])\n"
      ]
    },
    {
      "cell_type": "markdown",
      "metadata": {
        "id": "XooYEygsVOV9"
      },
      "source": [
        "## Implementation"
      ]
    },
    {
      "cell_type": "markdown",
      "metadata": {
        "id": "ALVCgGGoVOV9"
      },
      "source": [
        "### DQN"
      ]
    },
    {
      "cell_type": "markdown",
      "metadata": {
        "id": "6co9R30VVOV9"
      },
      "source": [
        "#### Algorithms"
      ]
    },
    {
      "cell_type": "markdown",
      "metadata": {
        "id": "lIRvRtvxVOV9"
      },
      "source": [
        "DQN is at its heart Q-Learning using Deep Neural Networks to predict the behavior of its environment and to predict which action is the best.\n",
        "\n",
        "Our goal, when implementing DQN is to maximize the rewards of our policy $\\pi^{*}$ described as followed, where $Q^{*}$ is defined as the optimal action-value function.\n",
        "\n",
        "$$\n",
        "\\pi^{*}(s) = \\underset{a}{\\arg\\max} \\; Q^{*}(s,a)\n",
        "$$\n",
        "\n",
        "\n",
        "\n",
        "The definition of $Q^{*}$ follows the Bellman Optimality Equation:\n",
        "\n",
        "$$\n",
        "Q^{*}(s,a) = \\mathbb{E} \\left[ r + \\gamma \\underset{a'}{\\max} Q^{*}(s', a') \\; | \\; s, a \\right]\n",
        "$$\n",
        "\n",
        "The equation means that the value of an action is dictated by the current reward + the best reward we can get from the best next action. The $\\gamma$ symbol is used only so that we can diminishes the importance of futur action on the long run.\n",
        "\n",
        "Our goal is to maximize the rewards we will have on the long term, which can be defined as:\n",
        "\n",
        "$$\n",
        "G_t = r_t + \\gamma r_{t+1} + \\gamma^{2} r_{t+2} + \\gamma^{3} r_{t+3} + ...  \n",
        "$$\n",
        "\n",
        "Based on Bellman's Optimality Equation, we are able to use the following update equation:\n",
        "\n",
        "$$\n",
        "Q(s,a) \\leftarrow Q(s,a) + \\alpha \\left[r + \\gamma \\underset{a'}{\\max}Q(s', a') - Q(s,a) \\right]\n",
        "$$\n"
      ]
    },
    {
      "cell_type": "markdown",
      "metadata": {
        "id": "YZunLW1MVOV9"
      },
      "source": [
        "#### Implementation"
      ]
    },
    {
      "cell_type": "code",
      "execution_count": null,
      "metadata": {
        "id": "Jd0qR4DEVOV9"
      },
      "outputs": [],
      "source": [
        "# Implementation based on : https://pytorch.org/tutorials/intermediate/reinforcement_q_learning.html\n",
        "Transition = namedtuple('Transition', ('state', 'action', 'next_state', 'reward', 'done'))\n",
        "\n",
        "class ReplayMemory(object):\n",
        "\tdef __init__(self, capacity):\n",
        "\t\tself.memory = deque([], maxlen=capacity)\n",
        "\n",
        "\tdef append(self, *args):\n",
        "\t\t\"\"\"Save a transition\"\"\"\n",
        "\t\tself.memory.append(Transition(*args))\n",
        "\n",
        "\tdef sample(self, batch_size):\n",
        "\t\treturn random.sample(self.memory, batch_size)\n",
        "\n",
        "\tdef __len__(self):\n",
        "\t\treturn len(self.memory)\n",
        "\n",
        "class DQN(nn.Module):\n",
        "\tdef __init__(self, n_actions):\n",
        "\t\t\"\"\"\n",
        "\t\tQ-Network made of a Deep neural network\n",
        "\t\t\"\"\"\n",
        "\t\tsuper(DQN, self).__init__()\n",
        "\t\t# TODO: Ajust the depth of the model so that we don't need to use 128 each time,\n",
        "\t\t# and evaluate the impact of changing those values\n",
        "\t\tself.net = nn.Sequential(\n",
        "\t\t\t# Adjusted for RGB input (84x84x1) without resizing\n",
        "\t\t\tnn.Conv2d(1, 32, kernel_size=8, stride=4),    # Output: 32x23x23\n",
        "\t\t\tnn.ReLU(),\n",
        "\t\t\tnn.Conv2d(32, 64, kernel_size=4, stride=2),   # Output: 64x10x10\n",
        "\t\t\tnn.ReLU(),\n",
        "\t\t\tnn.Conv2d(64, 64, kernel_size=3, stride=1),    # Output: 64x8x8\n",
        "\t\t\tnn.ReLU(),\n",
        "\t\t\tnn.Flatten(),\n",
        "\t\t\tnn.Linear(64 * 7 * 7, 1024),\n",
        "\t\t\tnn.ReLU(),\n",
        "\t\t\tnn.Linear(1024, 512),\n",
        "\t\t\tnn.ReLU(),\n",
        "\t\t\tnn.Linear(512, n_actions)\n",
        "\t\t)\n",
        "\n",
        "\tdef forward(self, x):\n",
        "\t\treturn self.net(x)\n",
        "\n",
        "class DQNAgent():\n",
        "\tdef __init__(self, env, save_path=\"dqn.pth\", lr=3e-4, gamma=0.95, batch_size=64, memory_size=5000, epsilon_start=0.8, epsilon_end=0.2, epsilon_decay=1000):\n",
        "\t\t\"\"\"\n",
        "\t\tAgent made of DQNs used for learning how to use the sim racer.\n",
        "\t\t\"\"\"\n",
        "\t\tself.save_path = save_path\n",
        "\n",
        "\t\t# Hyperparameters\n",
        "\t\tself.GAMMA = gamma\n",
        "\t\tself.LR = lr\n",
        "\t\tself.BATCH_SIZE = batch_size\n",
        "\t\tself.MEMORY_SIZE = memory_size\n",
        "\t\tself.EPSILON_START = epsilon_start\n",
        "\t\tself.EPSILON_END = epsilon_end\n",
        "\t\tself.EPSILON_DECAY = epsilon_decay\n",
        "\n",
        "\t\tself.n_actions = env.action_space.n\n",
        "\n",
        "\t\t# Neural Network Declarations Here\n",
        "\t\tself.policy_net = DQN(self.n_actions).to(device)\n",
        "\t\tself.target_net = DQN(self.n_actions).to(device)\n",
        "\t\tself.target_net.load_state_dict(self.policy_net.state_dict())\n",
        "\n",
        "\t\tself.optimizer = optim.AdamW(self.policy_net.parameters(), lr=self.LR, amsgrad=True)\n",
        "\t\tself.memory = ReplayMemory(self.MEMORY_SIZE)\n",
        "\n",
        "\t\tself.steps_done = 0\n",
        "\n",
        "\tdef save(self):\n",
        "\t\ttry:\n",
        "\t\t\ttorch.save({ 'policy_net_state_dict': self.policy_net.state_dict(), 'target_net_state_dict': self.target_net.state_dict() }, self.save_path)\n",
        "\t\texcept:\n",
        "\t\t\treturn\n",
        "\n",
        "\tdef load(self):\n",
        "\t\tif os.path.isfile(self.save_path):\n",
        "\t\t\tcheckpoint = torch.load(self.save_path, map_location=device)\n",
        "\t\t\tself.policy_net.load_state_dict(checkpoint['policy_net_state_dict'])\n",
        "\t\t\tself.target_net.load_state_dict(checkpoint['target_net_state_dict'])\n",
        "\n",
        "\tdef select_action(self, state):\n",
        "\t\t\"\"\"\n",
        "\t\tEpsilon-greedy strategy\n",
        "\n",
        "\t\tstate: contains the rgb image of the car and the racing track (96, 96, 3)\n",
        "\t\t\"\"\"\n",
        "\t\tsample = random.random()\n",
        "\t\teps_threshold = self.EPSILON_END + (self.EPSILON_START - self.EPSILON_END) * \\\n",
        "\t\tmath.exp(-1. * self.steps_done / self.EPSILON_DECAY)\n",
        "\t\t\n",
        "\t\tself.steps_done += 1\n",
        "\n",
        "\t\tif sample > eps_threshold:\n",
        "\t\t\twith torch.no_grad():\n",
        "\t\t\t\t# Add batch dimension and convert to float\n",
        "\t\t\t\tstate_tensor = state.unsqueeze(0).float().to(device)\n",
        "\t\t\t\tq_values = self.policy_net(state_tensor)\n",
        "\t\t\t\taction_idx = q_values.argmax().item()\n",
        "\t\telse:\n",
        "\t\t\taction_idx = random.randint(0, self.n_actions-1)\n",
        "\n",
        "\t\treturn action_idx\n",
        "\n",
        "\tdef optimize_model(self):\n",
        "\t\t\"\"\"\n",
        "\t\tApply the backward propagation to the policy_net and the target_net.\n",
        "\t\t\"\"\"\n",
        "\t\tif len(self.memory) < self.BATCH_SIZE:\n",
        "\t\t\treturn\n",
        "\n",
        "\t\ttransitions = self.memory.sample(self.BATCH_SIZE)\n",
        "\t\tbatch = Transition(*zip(*transitions))\n",
        "\n",
        "\t\tstates = torch.stack([s for s in batch.state]).to(device)\n",
        "\t\tactions = torch.tensor(batch.action, dtype=torch.long, device=device)\n",
        "\t\trewards = torch.tensor(batch.reward, dtype=torch.float32, device=device).unsqueeze(1)\n",
        "\t\tdones = torch.tensor(batch.done, dtype=torch.bool, device=device).unsqueeze(1)\n",
        "\t\tnext_states = torch.stack([s for s in batch.next_state]).to(device)\n",
        "\n",
        "\t\t# Remove flattening steps to keep spatial structure\n",
        "\t\tcurrent_q = self.policy_net(states).gather(1, actions.unsqueeze(1))\n",
        "\t\tnext_q = self.target_net(next_states).max(1)[0].unsqueeze(1)\n",
        "\t\texpected_q = rewards + (self.GAMMA * next_q * ~dones)\n",
        "\n",
        "\t\t# loss = nn.MSELoss()(current_q, expected_q)\n",
        "\t\tloss = nn.SmoothL1Loss()(current_q, expected_q)\n",
        "\n",
        "\t\tself.optimizer.zero_grad()\n",
        "\t\tloss.backward()\n",
        "\t\t# In-place gradient clipping\n",
        "\t\t# torch.nn.utils.clip_grad_value_(self.policy_net.parameters(), 100)\n",
        "\t\tself.optimizer.step()\n"
      ]
    },
    {
      "cell_type": "markdown",
      "metadata": {
        "id": "teWHBJfaVOV9"
      },
      "source": [
        "#### Training Agent"
      ]
    },
    {
      "cell_type": "code",
      "execution_count": null,
      "metadata": {
        "id": "eN27iuFcjdrl"
      },
      "outputs": [
        {
          "name": "stdout",
          "output_type": "stream",
          "text": [
            "W&B offline. Running your script from this directory will only write metadata locally. Use wandb disabled to completely turn off W&B.\n"
          ]
        }
      ],
      "source": [
        "config = {\n",
        "\t\"seed\": 42,\n",
        "\t\"max_episodes\": 300000,\n",
        "\t\"max_timesteps\": 10000,\n",
        "\t\"continuous\": False,\n",
        "\t\"lap_complete_percent\": 0.95,\n",
        "\t\"max_losing_step\": 300,\n",
        "\t\"lr\": 3e-4,\n",
        "\t\"gamma\": 0.99,\n",
        "\t\"batch_size\": 128,\n",
        "\t\"memory_size\": 10000,\n",
        "\t\"epsilon_start\": 0.9,\n",
        "\t\"epsilon_end\": 0.05,\n",
        "\t\"epsilon_decay\": 1000,\n",
        "\t\"stop_criteria_count\": 10,\n",
        "\t\"target_update_freq\": 5,\n",
        "}"
      ]
    },
    {
      "cell_type": "code",
      "execution_count": null,
      "metadata": {
        "colab": {
          "base_uri": "https://localhost:8080/",
          "height": 356
        },
        "id": "iljGLxzoVOV9",
        "outputId": "bff924d1-ba43-481e-cd99-ec56d0d99799"
      },
      "outputs": [
        {
          "data": {
            "image/png": "[encoded data removed]",
            "text/plain": [
              "<Figure size 640x480 with 1 Axes>"
            ]
          },
          "metadata": {},
          "output_type": "display_data"
        }
      ],
      "source": [
        "with wandb.init(\n",
        "\t\tconfig=config,\n",
        "\t\tproject='INF8225 - TP4',\n",
        "\t\tgroup='DQN',\n",
        "\t\tsave_code=True,\n",
        "\t):\n",
        "\t# Training loop\n",
        "\tenv = gym.make(\"CarRacing-v3\", render_mode=\"rgb_array\", domain_randomize=False, max_episode_steps=config[\"max_timesteps\"], continuous=config[\"continuous\"], lap_complete_percent=config[\"lap_complete_percent\"])\n",
        "\tagent = DQNAgent(env, lr=config[\"lr\"], gamma=config[\"gamma\"], batch_size=config[\"batch_size\"], memory_size=config[\"memory_size\"], epsilon_start=config[\"epsilon_start\"], epsilon_end=config[\"epsilon_end\"], epsilon_decay=config[\"epsilon_decay\"])\n",
        "\t# agent.load()\n",
        "\tsuccessful_run = 0\n",
        "\n",
        "\tfor ep in range(config[\"max_episodes\"]):\n",
        "\t\tstate, _ = env.reset(seed=config[\"seed\"])\n",
        "\t\tstate, _ = skip_zooming(env)\n",
        "\t\tstate = transform(state)\n",
        "\t\ttotal_reward = 0\n",
        "\t\trewards = []\n",
        "\t\tdone = False\n",
        "\t\tt = 0\n",
        "\n",
        "\t\twhile not done:\n",
        "\t\t\taction_idx = agent.select_action(state)\n",
        "\t\t\tnext_state, reward, done, truncated, _ = env.step(action_idx)\n",
        "\t\t\tdone = done or truncated\n",
        "\n",
        "\t\t\tnext_state = transform(next_state)\n",
        "\n",
        "\t\t\tif (len(rewards) > config[\"max_losing_step\"] and np.max(np.array(rewards[-config[\"max_losing_step\"]:])) < 0):\n",
        "\t\t\t\treward -= 100\n",
        "\n",
        "\t\t\tagent.memory.append(state, action_idx, next_state, reward, done)\n",
        "\t\t\trewards.append(reward)\n",
        "\t\t\tstate = next_state\n",
        "\t\t\ttotal_reward += reward\n",
        "\n",
        "\t\t\tif t % 20 == 0:\n",
        "\t\t\t\tshow_current_frame(env, {\"Episode\": ep, \"Timestep\": t})\n",
        "\n",
        "\t\t\tagent.optimize_model()\n",
        "\n",
        "\t\t\tif (len(rewards) > config[\"max_losing_step\"] and np.max(np.array(rewards[-config[\"max_losing_step\"]:])) < 0):\n",
        "\t\t\t\tbreak\n",
        "\n",
        "\t\t\tt += 1\n",
        "\n",
        "\t\tif ep % config[\"target_update_freq\"] == 0:\n",
        "\t\t\tagent.target_net.load_state_dict(agent.policy_net.state_dict())\n",
        "\n",
        "\t\tprint(f\"Episode {ep+1}, Total Reward: {total_reward}\")\n",
        "\t\t\n",
        "\t\tif done == True:\n",
        "\t\t\tsuccessful_run += 1\n",
        "\n",
        "\t\t\tif successful_run >= config[\"stop_criteria_count\"]:\n",
        "\t\t\t\tbreak\n",
        "\n",
        "\t\tagent.save()\n",
        "\t\t\n",
        "\tenv.close()"
      ]
    },
    {
      "cell_type": "markdown",
      "metadata": {
        "id": "nRqpJaHEVOV9"
      },
      "source": [
        "#### Car Racing Animation"
      ]
    },
    {
      "cell_type": "code",
      "execution_count": null,
      "metadata": {
        "id": "XTv24Jv9VOV9"
      },
      "outputs": [],
      "source": [
        "def run_agent_and_collect_frames(agent, env, seed=42):\n",
        "  state, _ = env.reset(seed=seed)\n",
        "  done = False\n",
        "  frames = []\n",
        "\n",
        "  while not done:\n",
        "    frame = env.render()\n",
        "    frames.append(frame)\n",
        "\n",
        "    preprocessed_state = agent.preprocess_state(state)\n",
        "    action = agent.select_action(preprocessed_state)\n",
        "    next_state, reward, terminated, truncated, _ = env.step(action)\n",
        "    done = terminated or truncated\n",
        "    state = next_state\n",
        "\n",
        "    return frames\n",
        "\n",
        "# Function to display frames as an animation using matplotlib\n",
        "def show_animation_frames(frames):\n",
        "  fig = plt.figure(figsize=(7, 5))\n",
        "  plt.axis('off')\n",
        "  im = plt.imshow(frames[0])\n",
        "\n",
        "  def animate(i):\n",
        "    im.set_data(frames[i])\n",
        "    return im,\n",
        "\n",
        "  anim = animation.FuncAnimation(fig, animate, frames=len(frames), interval=50, repeat=False)\n",
        "  plt.close(fig)\n",
        "  display(HTML(anim.to_jshtml()))\n",
        "\n",
        "# Run the episode with the trained agent\n",
        "frames = run_agent_and_collect_frames(agent, env)\n",
        "\n",
        "# Show the animation\n",
        "show_animation_frames(frames)\n"
      ]
    }
  ],
  "metadata": {
    "accelerator": "GPU",
    "colab": {
      "gpuType": "L4",
      "machine_shape": "hm",
      "provenance": []
    },
    "kernelspec": {
      "display_name": ".venv",
      "language": "python",
      "name": "python3"
    },
    "language_info": {
      "codemirror_mode": {
        "name": "ipython",
        "version": 3
      },
      "file_extension": ".py",
      "mimetype": "text/x-python",
      "name": "python",
      "nbconvert_exporter": "python",
      "pygments_lexer": "ipython3",
      "version": "3.12.8"
    }
  },
  "nbformat": 4,
  "nbformat_minor": 0
}
