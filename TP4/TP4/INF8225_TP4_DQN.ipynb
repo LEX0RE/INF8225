{
  "cells": [
    {
      "cell_type": "markdown",
      "metadata": {
        "id": "553UZ1iuVOV7"
      },
      "source": [
        "# TP4, INF8225 2025, Projet\n"
      ]
    },
    {
      "cell_type": "markdown",
      "metadata": {
        "id": "gDjWK-m8VOV8"
      },
      "source": [
        "## Imports"
      ]
    },
    {
      "cell_type": "code",
      "execution_count": 1,
      "metadata": {
        "id": "XSGJpgj7VOV8"
      },
      "outputs": [],
      "source": [
        "from IPython.display import clear_output\n",
        "\n",
        "%pip install torch torchvision --index-url https://download.pytorch.org/whl/cu121\n",
        "%pip install numpy\n",
        "%pip install swig\n",
        "%pip install box2d\n",
        "%pip install pygame\n",
        "%pip install gymnasium\n",
        "%pip install \"gymnasium[box2d]\"\n",
        "%pip install matplotlib\n",
        "%pip install wandb\n",
        "\n",
        "clear_output()"
      ]
    },
    {
      "cell_type": "code",
      "execution_count": 30,
      "metadata": {
        "id": "fcRnqGzMVOV8"
      },
      "outputs": [],
      "source": [
        "import numpy as np\n",
        "import gymnasium as gym\n",
        "import matplotlib.pyplot as plt\n",
        "from IPython.display import HTML\n",
        "import matplotlib.animation as animation\n",
        "import torch\n",
        "import torch.nn as nn\n",
        "import torch.optim as optim\n",
        "import torchvision.transforms as T\n",
        "import random\n",
        "import os\n",
        "import wandb\n",
        "from IPython.display import clear_output\n",
        "import math\n",
        "from collections import namedtuple, deque"
      ]
    },
    {
      "cell_type": "markdown",
      "metadata": {
        "id": "28fvb3eqVOV8"
      },
      "source": [
        "### Initialisation"
      ]
    },
    {
      "cell_type": "code",
      "execution_count": 31,
      "metadata": {
        "colab": {
          "base_uri": "https://localhost:8080/"
        },
        "id": "p2wOLXAUVOV8",
        "outputId": "8867c865-36b6-4ef6-c652-c0249d8df724"
      },
      "outputs": [
        {
          "name": "stdout",
          "output_type": "stream",
          "text": [
            "True\n",
            "12.1\n",
            "NVIDIA GeForce GTX 1050\n"
          ]
        }
      ],
      "source": [
        "print(torch.cuda.is_available())\n",
        "device = torch.device(\"cuda\" if torch.cuda.is_available() else \"cpu\")\n",
        "\n",
        "print(torch.version.cuda)\n",
        "\n",
        "if torch.cuda.is_available():\n",
        "\tprint(torch.cuda.get_device_name(0))"
      ]
    },
    {
      "cell_type": "markdown",
      "metadata": {
        "id": "NCvxsgx4VOV8"
      },
      "source": [
        "## Data Declaration"
      ]
    },
    {
      "cell_type": "code",
      "execution_count": 32,
      "metadata": {
        "colab": {
          "base_uri": "https://localhost:8080/"
        },
        "id": "x2GvSSPqVOV8",
        "outputId": "c8d847fb-97bc-4aa1-b411-c2083a3ef21b"
      },
      "outputs": [],
      "source": [
        "def show_animation(env):\n",
        "\tshow_animation_frames(env.render())\n",
        "\n",
        "def show_animation_frames(frames):\n",
        "\tfig = plt.figure(figsize=(7, 5))\n",
        "\tplt.axis('off')\n",
        "\tim = plt.imshow(frames[0])\n",
        "\n",
        "\tdef animate(i):\n",
        "\t\tim.set_data(frames[i])\n",
        "\t\treturn im,\n",
        "\n",
        "\tanim = animation.FuncAnimation(fig, animate, frames=len(frames), repeat=False)\n",
        "\tplt.close(fig)\n",
        "\tdisplay(HTML(anim.to_jshtml()))\n",
        "\n",
        "def show_current_frame(env, data):\n",
        "\tframe = env.render()\n",
        "\tfig, _ = plt.subplots()\n",
        "\tr = fig.canvas.get_renderer()\n",
        "\tplt.imshow(frame)\n",
        "\tplt.axis('off')\n",
        "\ttexts = []\n",
        "\tsize_used = 0\n",
        "\tfor i, key in enumerate(data):\n",
        "\t\ttitle = f'{key}: {data[key]}'\n",
        "\t\tif type(data[key]) == float or type(data[key]) == torch.Tensor:\n",
        "\t\t\ttitle = f'{key}: {data[key]:.2f}'\n",
        "\t\ttext = plt.text(0, 0, title, fontsize=12, color='black', backgroundcolor='white', ha=\"center\")\n",
        "\t\tsize_used += text.get_window_extent(renderer=r).width\n",
        "\t\ttexts.append(text)\n",
        "\tsplit = (700 - size_used) / (len(data) + 1)\n",
        "\tnext_position = split\n",
        "\tfor t in texts:\n",
        "\t\tt.set_position((next_position, 0))\n",
        "\t\tnext_position = next_position + t.get_window_extent(renderer=r).width + split\n",
        "\tclear_output(wait=True)\n",
        "\tplt.show()\n",
        "\n",
        "def skip_zooming(env):\n",
        "\tno_action = 0\n",
        "\tif type(env.action_space) != gym.spaces.Discrete:\n",
        "\t\tno_action = np.zeros((env.action_space.shape[0]))\n",
        "\n",
        "\tfor _ in range(50):\n",
        "\t\tobservation, _, terminated, truncated, info = env.step(no_action)\n",
        "\n",
        "\t\tif terminated or truncated:\n",
        "\t\t\tobservation, info = env.reset()\n",
        "\t\t\tbreak\n",
        "\treturn observation, info"
      ]
    },
    {
      "cell_type": "markdown",
      "metadata": {
        "id": "oYfc-8GFVOV9"
      },
      "source": [
        "### Helper Function"
      ]
    },
    {
      "cell_type": "code",
      "execution_count": 33,
      "metadata": {
        "id": "KSkwQhR8VOV9"
      },
      "outputs": [],
      "source": [
        "transform = T.Compose([\n",
        "\tT.ToPILImage(),\n",
        "\tT.Grayscale(num_output_channels=1),\n",
        "\tT.Resize((84, 84)),\n",
        "\tT.ToTensor(),\n",
        "\tT.Normalize((0.5,), (0.5,))\n",
        "])\n"
      ]
    },
    {
      "cell_type": "markdown",
      "metadata": {
        "id": "XooYEygsVOV9"
      },
      "source": [
        "## Implementation"
      ]
    },
    {
      "cell_type": "markdown",
      "metadata": {
        "id": "ALVCgGGoVOV9"
      },
      "source": [
        "### DQN"
      ]
    },
    {
      "cell_type": "markdown",
      "metadata": {
        "id": "6co9R30VVOV9"
      },
      "source": [
        "#### Algorithms"
      ]
    },
    {
      "cell_type": "markdown",
      "metadata": {
        "id": "lIRvRtvxVOV9"
      },
      "source": [
        "DQN is at its heart Q-Learning using Deep Neural Networks to predict the behavior of its environment and to predict which action is the best.\n",
        "\n",
        "Our goal, when implementing DQN is to maximize the rewards of our policy $\\pi^{*}$ described as followed, where $Q^{*}$ is defined as the optimal action-value function.\n",
        "\n",
        "$$\n",
        "\\pi^{*}(s) = \\underset{a}{\\arg\\max} \\; Q^{*}(s,a)\n",
        "$$\n",
        "\n",
        "\n",
        "\n",
        "The definition of $Q^{*}$ follows the Bellman Optimality Equation:\n",
        "\n",
        "$$\n",
        "Q^{*}(s,a) = \\mathbb{E} \\left[ r + \\gamma \\underset{a'}{\\max} Q^{*}(s', a') \\; | \\; s, a \\right]\n",
        "$$\n",
        "\n",
        "The equation means that the value of an action is dictated by the current reward + the best reward we can get from the best next action. The $\\gamma$ symbol is used only so that we can diminishes the importance of futur action on the long run.\n",
        "\n",
        "Our goal is to maximize the rewards we will have on the long term, which can be defined as:\n",
        "\n",
        "$$\n",
        "G_t = r_t + \\gamma r_{t+1} + \\gamma^{2} r_{t+2} + \\gamma^{3} r_{t+3} + ...  \n",
        "$$\n",
        "\n",
        "Based on Bellman's Optimality Equation, we are able to use the following update equation:\n",
        "\n",
        "$$\n",
        "Q(s,a) \\leftarrow Q(s,a) + \\alpha \\left[r + \\gamma \\underset{a'}{\\max}Q(s', a') - Q(s,a) \\right]\n",
        "$$\n"
      ]
    },
    {
      "cell_type": "markdown",
      "metadata": {
        "id": "YZunLW1MVOV9"
      },
      "source": [
        "#### Implementation"
      ]
    },
    {
      "cell_type": "code",
      "execution_count": 34,
      "metadata": {
        "id": "Jd0qR4DEVOV9"
      },
      "outputs": [],
      "source": [
        "# Implementation based on : https://pytorch.org/tutorials/intermediate/reinforcement_q_learning.html\n",
        "Transition = namedtuple('Transition', ('state', 'action', 'next_state', 'reward', 'done'))\n",
        "\n",
        "class ReplayMemory(object):\n",
        "\tdef __init__(self, capacity):\n",
        "\t\tself.memory = deque([], maxlen=capacity)\n",
        "\n",
        "\tdef append(self, *args):\n",
        "\t\t\"\"\"Save a transition\"\"\"\n",
        "\t\tself.memory.append(Transition(*args))\n",
        "\n",
        "\tdef sample(self, batch_size):\n",
        "\t\treturn random.sample(self.memory, batch_size)\n",
        "\n",
        "\tdef __len__(self):\n",
        "\t\treturn len(self.memory)\n",
        "\n",
        "class DQN(nn.Module):\n",
        "\tdef __init__(self, n_actions):\n",
        "\t\t\"\"\"\n",
        "\t\tQ-Network made of a Deep neural network\n",
        "\t\t\"\"\"\n",
        "\t\tsuper(DQN, self).__init__()\n",
        "\t\t# TODO: Ajust the depth of the model so that we don't need to use 128 each time,\n",
        "\t\t# and evaluate the impact of changing those values\n",
        "\t\tself.net = nn.Sequential(\n",
        "\t\t\t# Adjusted for RGB input (84x84x1) without resizing\n",
        "\t\t\tnn.Conv2d(1, 32, kernel_size=8, stride=4),    # Output: 32x23x23\n",
        "\t\t\tnn.ReLU(),\n",
        "\t\t\tnn.Conv2d(32, 64, kernel_size=4, stride=2),   # Output: 64x10x10\n",
        "\t\t\tnn.ReLU(),\n",
        "\t\t\tnn.Conv2d(64, 64, kernel_size=3, stride=1),    # Output: 64x8x8\n",
        "\t\t\tnn.ReLU(),\n",
        "\t\t\tnn.Flatten(),\n",
        "\t\t\tnn.Linear(64 * 7 * 7, 1024),\n",
        "\t\t\tnn.ReLU(),\n",
        "\t\t\tnn.Linear(1024, 512),\n",
        "\t\t\tnn.ReLU(),\n",
        "\t\t\tnn.Linear(512, n_actions)\n",
        "\t\t)\n",
        "\n",
        "\tdef forward(self, x):\n",
        "\t\treturn self.net(x)\n",
        "\n",
        "class DQNAgent():\n",
        "\tdef __init__(self, env, save_path=\"dqn.pth\", lr=3e-4, gamma=0.95, batch_size=64, memory_size=5000, epsilon_start=0.8, epsilon_end=0.2, epsilon_decay=1000):\n",
        "\t\t\"\"\"\n",
        "\t\tAgent made of DQNs used for learning how to use the sim racer.\n",
        "\t\t\"\"\"\n",
        "\t\tself.save_path = save_path\n",
        "\n",
        "\t\t# Hyperparameters\n",
        "\t\tself.GAMMA = gamma\n",
        "\t\tself.LR = lr\n",
        "\t\tself.BATCH_SIZE = batch_size\n",
        "\t\tself.MEMORY_SIZE = memory_size\n",
        "\t\tself.EPSILON_DECAY = epsilon_decay\n",
        "\n",
        "\t\tself.n_actions = env.action_space.n\n",
        "\n",
        "\t\t# Neural Network Declarations Here\n",
        "\t\tself.policy_net = DQN(self.n_actions).to(device)\n",
        "\t\tself.target_net = DQN(self.n_actions).to(device)\n",
        "\t\tself.target_net.load_state_dict(self.policy_net.state_dict())\n",
        "\n",
        "\t\tself.optimizer = optim.AdamW(self.policy_net.parameters(), lr=self.LR, amsgrad=True)\n",
        "\t\tself.memory = ReplayMemory(self.MEMORY_SIZE)\n",
        "\n",
        "\t\tself.epsilon = epsilon_start\n",
        "\t\tself.epsilon_max = epsilon_start\n",
        "\t\tself.epsilon_min = epsilon_end\n",
        "\t\tself.epsilon_decay = (self.epsilon_max - self.epsilon_min) / memory_size\n",
        "\n",
        "\tdef save(self):\n",
        "\t\ttry:\n",
        "\t\t\ttorch.save({ 'policy_net_state_dict': self.policy_net.state_dict(), 'target_net_state_dict': self.target_net.state_dict() }, self.save_path)\n",
        "\t\texcept:\n",
        "\t\t\treturn\n",
        "\n",
        "\tdef load(self):\n",
        "\t\tif os.path.isfile(self.save_path):\n",
        "\t\t\tcheckpoint = torch.load(self.save_path, map_location=device)\n",
        "\t\t\tself.policy_net.load_state_dict(checkpoint['policy_net_state_dict'])\n",
        "\t\t\tself.target_net.load_state_dict(checkpoint['target_net_state_dict'])\n",
        "\n",
        "\tdef select_action(self, state):\n",
        "\t\t\"\"\"\n",
        "\t\tEpsilon-greedy strategy\n",
        "\n",
        "\t\tstate: contains the rgb image of the car and the racing track (96, 96, 3)\n",
        "\t\t\"\"\"\n",
        "\t\tsample = random.random()\n",
        "\t\tif sample > self.epsilon:\n",
        "\t\t\twith torch.no_grad():\n",
        "\t\t\t\t# Add batch dimension and convert to float\n",
        "\t\t\t\tstate_tensor = state.unsqueeze(0).float().to(device)\n",
        "\t\t\t\tq_values = self.policy_net(state_tensor)\n",
        "\t\t\t\taction_idx = q_values.argmax().item()\n",
        "\t\telse:\n",
        "\t\t\taction_idx = random.randint(0, self.n_actions-1)\n",
        "\n",
        "\t\tself.epsilon = max(self.epsilon - self.epsilon_decay, self.epsilon_min)\n",
        "\t\treturn action_idx, self.epsilon\n",
        "\n",
        "\tdef optimize_model(self):\n",
        "\t\t\"\"\"\n",
        "\t\tApply the backward propagation to the policy_net and the target_net.\n",
        "\t\t\"\"\"\n",
        "\t\tif len(self.memory) < self.BATCH_SIZE:\n",
        "\t\t\treturn\n",
        "\n",
        "\t\ttransitions = self.memory.sample(self.BATCH_SIZE)\n",
        "\t\tbatch = Transition(*zip(*transitions))\n",
        "\n",
        "\t\tstates = torch.stack([s for s in batch.state]).to(device)\n",
        "\t\tactions = torch.tensor(batch.action, dtype=torch.long, device=device)\n",
        "\t\trewards = torch.tensor(batch.reward, dtype=torch.float32, device=device).unsqueeze(1)\n",
        "\t\tdones = torch.tensor(batch.done, dtype=torch.bool, device=device).unsqueeze(1)\n",
        "\t\tnext_states = torch.stack([s for s in batch.next_state]).to(device)\n",
        "\n",
        "\t\t# Remove flattening steps to keep spatial structure\n",
        "\t\tcurrent_q = self.policy_net(states).gather(1, actions.unsqueeze(1))\n",
        "\t\tnext_q = self.target_net(next_states).max(1)[0].unsqueeze(1)\n",
        "\t\texpected_q = rewards + (self.GAMMA * next_q * ~dones)\n",
        "\n",
        "\t\tloss = nn.SmoothL1Loss()(current_q, expected_q)\n",
        "\n",
        "\t\tself.optimizer.zero_grad()\n",
        "\t\tloss.backward()\n",
        "\t\t# In-place gradient clipping\n",
        "\t\ttorch.nn.utils.clip_grad_value_(self.policy_net.parameters(), 100)\n",
        "\t\tself.optimizer.step()\n",
        "\n",
        "\t\treturn loss\n"
      ]
    },
    {
      "cell_type": "markdown",
      "metadata": {
        "id": "teWHBJfaVOV9"
      },
      "source": [
        "#### Training Agent"
      ]
    },
    {
      "cell_type": "code",
      "execution_count": null,
      "metadata": {
        "id": "eN27iuFcjdrl"
      },
      "outputs": [],
      "source": [
        "config = {\n",
        "\t\"seed\": 42,\n",
        "\t\"max_episodes\": 300000,\n",
        "\t\"max_timesteps\": 10000,\n",
        "\t\"continuous\": False,\n",
        "\t\"load_save\": False,\n",
        "\t\"lap_complete_percent\": 0.95,\n",
        "\t\"max_losing_step\": 100,\n",
        "\t\"lr\": 3e-4,\n",
        "\t\"gamma\": 0.99,\n",
        "\t\"batch_size\": 32,\n",
        "\t\"memory_size\": 100000,\n",
        "\t\"epsilon_start\": 1.0,\n",
        "\t\"epsilon_end\": 0.1,\n",
        "\t\"epsilon_decay\": 0.05,\n",
        "\t\"stop_criteria_count\": 10,\n",
        "\t\"target_update_freq\": 5,\n",
        "}"
      ]
    },
    {
      "cell_type": "code",
      "execution_count": null,
      "metadata": {
        "colab": {
          "base_uri": "https://localhost:8080/",
          "height": 356
        },
        "id": "iljGLxzoVOV9",
        "outputId": "bff924d1-ba43-481e-cd99-ec56d0d99799"
      },
      "outputs": [
        {
          "data": {
            "image/png": "[encoded data removed]",
            "text/plain": [
              "<Figure size 640x480 with 1 Axes>"
            ]
          },
          "metadata": {},
          "output_type": "display_data"
        },
        {
          "name": "stderr",
          "output_type": "stream",
          "text": [
            "Traceback (most recent call last):\n",
            "  File \"C:\\Users\\Alexandre\\AppData\\Local\\Temp\\ipykernel_27944\\1510050613.py\", line 26, in <module>\n",
            "    next_state, reward, done, truncated, _ = env.step(action_idx)\n",
            "                                             ^^^^^^^^^^^^^^^^^^^^\n",
            "  File \"d:\\Repo_Git\\INF8225\\.venv\\Lib\\site-packages\\gymnasium\\wrappers\\common.py\", line 125, in step\n",
            "    observation, reward, terminated, truncated, info = self.env.step(action)\n",
            "                                                       ^^^^^^^^^^^^^^^^^^^^^\n",
            "  File \"d:\\Repo_Git\\INF8225\\.venv\\Lib\\site-packages\\gymnasium\\wrappers\\common.py\", line 393, in step\n",
            "    return super().step(action)\n",
            "           ^^^^^^^^^^^^^^^^^^^^\n",
            "  File \"d:\\Repo_Git\\INF8225\\.venv\\Lib\\site-packages\\gymnasium\\core.py\", line 327, in step\n",
            "    return self.env.step(action)\n",
            "           ^^^^^^^^^^^^^^^^^^^^^\n",
            "  File \"d:\\Repo_Git\\INF8225\\.venv\\Lib\\site-packages\\gymnasium\\wrappers\\common.py\", line 285, in step\n",
            "    return self.env.step(action)\n",
            "           ^^^^^^^^^^^^^^^^^^^^^\n",
            "  File \"d:\\Repo_Git\\INF8225\\.venv\\Lib\\site-packages\\gymnasium\\envs\\box2d\\car_racing.py\", line 563, in step\n",
            "    self.state = self._render(\"state_pixels\")\n",
            "                 ^^^^^^^^^^^^^^^^^^^^^^^^^^^^\n",
            "  File \"d:\\Repo_Git\\INF8225\\.venv\\Lib\\site-packages\\gymnasium\\envs\\box2d\\car_racing.py\", line 628, in _render\n",
            "    self._render_road(zoom, trans, angle)\n",
            "  File \"d:\\Repo_Git\\INF8225\\.venv\\Lib\\site-packages\\gymnasium\\envs\\box2d\\car_racing.py\", line 698, in _render_road\n",
            "    self._draw_colored_polygon(self.surf, poly, color, zoom, translation, angle)\n",
            "  File \"d:\\Repo_Git\\INF8225\\.venv\\Lib\\site-packages\\gymnasium\\envs\\box2d\\car_racing.py\", line 785, in _draw_colored_polygon\n",
            "    gfxdraw.aapolygon(self.surf, poly, color)\n",
            "KeyboardInterrupt\n"
          ]
        },
        {
          "data": {
            "text/html": [],
            "text/plain": [
              "<IPython.core.display.HTML object>"
            ]
          },
          "metadata": {},
          "output_type": "display_data"
        },
        {
          "data": {
            "text/html": [
              "<br>    <style><br>        .wandb-row {<br>            display: flex;<br>            flex-direction: row;<br>            flex-wrap: wrap;<br>            justify-content: flex-start;<br>            width: 100%;<br>        }<br>        .wandb-col {<br>            display: flex;<br>            flex-direction: column;<br>            flex-basis: 100%;<br>            flex: 1;<br>            padding: 10px;<br>        }<br>    </style><br><div class=\"wandb-row\"><div class=\"wandb-col\"><h3>Run history:</h3><br/><table class=\"wandb\"><tr><td>current_reward</td><td>▇▅▅██▇▇▆▇▇▅▅▅█▇▇▆▇█▇▇█▇▄▇█▅█▅█▅▁█▇▇▇▆▇▇▆</td></tr><tr><td>done</td><td>▁▁▁▁▁▁▁▁▁▁▁▁▁▁▁▁▁▁▁▁▁▁▁▁▁</td></tr><tr><td>episode</td><td>▁▁▂▂▂▂▃▃▃▄▄▄▅▅▅▅▆▆▆▇▇▇▇██</td></tr><tr><td>epsilon</td><td>█████▇▇▇▇▇▆▆▆▆▆▆▆▆▅▅▅▅▅▄▄▄▄▄▃▃▃▃▂▂▂▁▁▁▁▁</td></tr><tr><td>loss</td><td>▁▁▁▄▁▁▁▁▆▁▃▄▆▁▁▁▄▁▁▁▄▁▁▄▁█▁▁▁▁▁▃▁▁▁▁▁▁▃▄</td></tr><tr><td>reward</td><td>▄▇▇▇▆▁▅▇▇▆█▇▃▆▅▆▁█▇▇▆▇▆▇█</td></tr><tr><td>timestep</td><td>▃▁▂▁▂▁▂▂▆▇█▁▂▃▁▂▂▃▄▄▁▃▂▆▆▁▂▂▁▂▁▂▂▂▃▁▁▂▂▄</td></tr></table><br/></div><div class=\"wandb-col\"><h3>Run summary:</h3><br/><table class=\"wandb\"><tr><td>current_reward</td><td>-20.99929</td></tr><tr><td>done</td><td>0</td></tr><tr><td>episode</td><td>24</td></tr><tr><td>epsilon</td><td>0.93646</td></tr><tr><td>loss</td><td>0.00091</td></tr><tr><td>reward</td><td>-8.96643</td></tr><tr><td>timestep</td><td>315</td></tr></table><br/></div></div>"
            ],
            "text/plain": [
              "<IPython.core.display.HTML object>"
            ]
          },
          "metadata": {},
          "output_type": "display_data"
        },
        {
          "data": {
            "text/html": [
              " View run <strong style=\"color:#cdcd00\">lemon-dawn-100</strong> at: <a href='https://wandb.ai/lexore-poly/INF8225%20-%20TP4/runs/u7twib67' target=\"_blank\">https://wandb.ai/lexore-poly/INF8225%20-%20TP4/runs/u7twib67</a><br> View project at: <a href='https://wandb.ai/lexore-poly/INF8225%20-%20TP4' target=\"_blank\">https://wandb.ai/lexore-poly/INF8225%20-%20TP4</a><br>Synced 6 W&B file(s), 25 media file(s), 3 artifact file(s) and 0 other file(s)"
            ],
            "text/plain": [
              "<IPython.core.display.HTML object>"
            ]
          },
          "metadata": {},
          "output_type": "display_data"
        },
        {
          "data": {
            "text/html": [
              "Find logs at: <code>.\\wandb\\run-20250424_160732-u7twib67\\logs</code>"
            ],
            "text/plain": [
              "<IPython.core.display.HTML object>"
            ]
          },
          "metadata": {},
          "output_type": "display_data"
        },
        {
          "ename": "KeyboardInterrupt",
          "evalue": "",
          "output_type": "error",
          "traceback": [
            "\u001b[1;31m---------------------------------------------------------------------------\u001b[0m",
            "\u001b[1;31mKeyboardInterrupt\u001b[0m                         Traceback (most recent call last)",
            "Cell \u001b[1;32mIn[36], line 26\u001b[0m\n\u001b[0;32m     24\u001b[0m \u001b[38;5;28;01mwhile\u001b[39;00m \u001b[38;5;129;01mnot\u001b[39;00m done:\n\u001b[0;32m     25\u001b[0m \taction_idx, epsilon \u001b[38;5;241m=\u001b[39m agent\u001b[38;5;241m.\u001b[39mselect_action(state)\n\u001b[1;32m---> 26\u001b[0m \tnext_state, reward, done, truncated, _ \u001b[38;5;241m=\u001b[39m \u001b[43menv\u001b[49m\u001b[38;5;241;43m.\u001b[39;49m\u001b[43mstep\u001b[49m\u001b[43m(\u001b[49m\u001b[43maction_idx\u001b[49m\u001b[43m)\u001b[49m\n\u001b[0;32m     27\u001b[0m \tdone \u001b[38;5;241m=\u001b[39m done \u001b[38;5;129;01mor\u001b[39;00m truncated\n\u001b[0;32m     29\u001b[0m \tnext_state \u001b[38;5;241m=\u001b[39m transform(next_state)\n",
            "File \u001b[1;32md:\\Repo_Git\\INF8225\\.venv\\Lib\\site-packages\\gymnasium\\wrappers\\common.py:125\u001b[0m, in \u001b[0;36mTimeLimit.step\u001b[1;34m(self, action)\u001b[0m\n\u001b[0;32m    112\u001b[0m \u001b[38;5;28;01mdef\u001b[39;00m\u001b[38;5;250m \u001b[39m\u001b[38;5;21mstep\u001b[39m(\n\u001b[0;32m    113\u001b[0m     \u001b[38;5;28mself\u001b[39m, action: ActType\n\u001b[0;32m    114\u001b[0m ) \u001b[38;5;241m-\u001b[39m\u001b[38;5;241m>\u001b[39m \u001b[38;5;28mtuple\u001b[39m[ObsType, SupportsFloat, \u001b[38;5;28mbool\u001b[39m, \u001b[38;5;28mbool\u001b[39m, \u001b[38;5;28mdict\u001b[39m[\u001b[38;5;28mstr\u001b[39m, Any]]:\n\u001b[0;32m    115\u001b[0m \u001b[38;5;250m    \u001b[39m\u001b[38;5;124;03m\"\"\"Steps through the environment and if the number of steps elapsed exceeds ``max_episode_steps`` then truncate.\u001b[39;00m\n\u001b[0;32m    116\u001b[0m \n\u001b[0;32m    117\u001b[0m \u001b[38;5;124;03m    Args:\u001b[39;00m\n\u001b[1;32m   (...)\u001b[0m\n\u001b[0;32m    123\u001b[0m \n\u001b[0;32m    124\u001b[0m \u001b[38;5;124;03m    \"\"\"\u001b[39;00m\n\u001b[1;32m--> 125\u001b[0m     observation, reward, terminated, truncated, info \u001b[38;5;241m=\u001b[39m \u001b[38;5;28;43mself\u001b[39;49m\u001b[38;5;241;43m.\u001b[39;49m\u001b[43menv\u001b[49m\u001b[38;5;241;43m.\u001b[39;49m\u001b[43mstep\u001b[49m\u001b[43m(\u001b[49m\u001b[43maction\u001b[49m\u001b[43m)\u001b[49m\n\u001b[0;32m    126\u001b[0m     \u001b[38;5;28mself\u001b[39m\u001b[38;5;241m.\u001b[39m_elapsed_steps \u001b[38;5;241m+\u001b[39m\u001b[38;5;241m=\u001b[39m \u001b[38;5;241m1\u001b[39m\n\u001b[0;32m    128\u001b[0m     \u001b[38;5;28;01mif\u001b[39;00m \u001b[38;5;28mself\u001b[39m\u001b[38;5;241m.\u001b[39m_elapsed_steps \u001b[38;5;241m>\u001b[39m\u001b[38;5;241m=\u001b[39m \u001b[38;5;28mself\u001b[39m\u001b[38;5;241m.\u001b[39m_max_episode_steps:\n",
            "File \u001b[1;32md:\\Repo_Git\\INF8225\\.venv\\Lib\\site-packages\\gymnasium\\wrappers\\common.py:393\u001b[0m, in \u001b[0;36mOrderEnforcing.step\u001b[1;34m(self, action)\u001b[0m\n\u001b[0;32m    391\u001b[0m \u001b[38;5;28;01mif\u001b[39;00m \u001b[38;5;129;01mnot\u001b[39;00m \u001b[38;5;28mself\u001b[39m\u001b[38;5;241m.\u001b[39m_has_reset:\n\u001b[0;32m    392\u001b[0m     \u001b[38;5;28;01mraise\u001b[39;00m ResetNeeded(\u001b[38;5;124m\"\u001b[39m\u001b[38;5;124mCannot call env.step() before calling env.reset()\u001b[39m\u001b[38;5;124m\"\u001b[39m)\n\u001b[1;32m--> 393\u001b[0m \u001b[38;5;28;01mreturn\u001b[39;00m \u001b[38;5;28;43msuper\u001b[39;49m\u001b[43m(\u001b[49m\u001b[43m)\u001b[49m\u001b[38;5;241;43m.\u001b[39;49m\u001b[43mstep\u001b[49m\u001b[43m(\u001b[49m\u001b[43maction\u001b[49m\u001b[43m)\u001b[49m\n",
            "File \u001b[1;32md:\\Repo_Git\\INF8225\\.venv\\Lib\\site-packages\\gymnasium\\core.py:327\u001b[0m, in \u001b[0;36mWrapper.step\u001b[1;34m(self, action)\u001b[0m\n\u001b[0;32m    323\u001b[0m \u001b[38;5;28;01mdef\u001b[39;00m\u001b[38;5;250m \u001b[39m\u001b[38;5;21mstep\u001b[39m(\n\u001b[0;32m    324\u001b[0m     \u001b[38;5;28mself\u001b[39m, action: WrapperActType\n\u001b[0;32m    325\u001b[0m ) \u001b[38;5;241m-\u001b[39m\u001b[38;5;241m>\u001b[39m \u001b[38;5;28mtuple\u001b[39m[WrapperObsType, SupportsFloat, \u001b[38;5;28mbool\u001b[39m, \u001b[38;5;28mbool\u001b[39m, \u001b[38;5;28mdict\u001b[39m[\u001b[38;5;28mstr\u001b[39m, Any]]:\n\u001b[0;32m    326\u001b[0m \u001b[38;5;250m    \u001b[39m\u001b[38;5;124;03m\"\"\"Uses the :meth:`step` of the :attr:`env` that can be overwritten to change the returned data.\"\"\"\u001b[39;00m\n\u001b[1;32m--> 327\u001b[0m     \u001b[38;5;28;01mreturn\u001b[39;00m \u001b[38;5;28;43mself\u001b[39;49m\u001b[38;5;241;43m.\u001b[39;49m\u001b[43menv\u001b[49m\u001b[38;5;241;43m.\u001b[39;49m\u001b[43mstep\u001b[49m\u001b[43m(\u001b[49m\u001b[43maction\u001b[49m\u001b[43m)\u001b[49m\n",
            "File \u001b[1;32md:\\Repo_Git\\INF8225\\.venv\\Lib\\site-packages\\gymnasium\\wrappers\\common.py:285\u001b[0m, in \u001b[0;36mPassiveEnvChecker.step\u001b[1;34m(self, action)\u001b[0m\n\u001b[0;32m    283\u001b[0m     \u001b[38;5;28;01mreturn\u001b[39;00m env_step_passive_checker(\u001b[38;5;28mself\u001b[39m\u001b[38;5;241m.\u001b[39menv, action)\n\u001b[0;32m    284\u001b[0m \u001b[38;5;28;01melse\u001b[39;00m:\n\u001b[1;32m--> 285\u001b[0m     \u001b[38;5;28;01mreturn\u001b[39;00m \u001b[38;5;28;43mself\u001b[39;49m\u001b[38;5;241;43m.\u001b[39;49m\u001b[43menv\u001b[49m\u001b[38;5;241;43m.\u001b[39;49m\u001b[43mstep\u001b[49m\u001b[43m(\u001b[49m\u001b[43maction\u001b[49m\u001b[43m)\u001b[49m\n",
            "File \u001b[1;32md:\\Repo_Git\\INF8225\\.venv\\Lib\\site-packages\\gymnasium\\envs\\box2d\\car_racing.py:563\u001b[0m, in \u001b[0;36mCarRacing.step\u001b[1;34m(self, action)\u001b[0m\n\u001b[0;32m    560\u001b[0m \u001b[38;5;28mself\u001b[39m\u001b[38;5;241m.\u001b[39mworld\u001b[38;5;241m.\u001b[39mStep(\u001b[38;5;241m1.0\u001b[39m \u001b[38;5;241m/\u001b[39m FPS, \u001b[38;5;241m6\u001b[39m \u001b[38;5;241m*\u001b[39m \u001b[38;5;241m30\u001b[39m, \u001b[38;5;241m2\u001b[39m \u001b[38;5;241m*\u001b[39m \u001b[38;5;241m30\u001b[39m)\n\u001b[0;32m    561\u001b[0m \u001b[38;5;28mself\u001b[39m\u001b[38;5;241m.\u001b[39mt \u001b[38;5;241m+\u001b[39m\u001b[38;5;241m=\u001b[39m \u001b[38;5;241m1.0\u001b[39m \u001b[38;5;241m/\u001b[39m FPS\n\u001b[1;32m--> 563\u001b[0m \u001b[38;5;28mself\u001b[39m\u001b[38;5;241m.\u001b[39mstate \u001b[38;5;241m=\u001b[39m \u001b[38;5;28;43mself\u001b[39;49m\u001b[38;5;241;43m.\u001b[39;49m\u001b[43m_render\u001b[49m\u001b[43m(\u001b[49m\u001b[38;5;124;43m\"\u001b[39;49m\u001b[38;5;124;43mstate_pixels\u001b[39;49m\u001b[38;5;124;43m\"\u001b[39;49m\u001b[43m)\u001b[49m\n\u001b[0;32m    565\u001b[0m step_reward \u001b[38;5;241m=\u001b[39m \u001b[38;5;241m0\u001b[39m\n\u001b[0;32m    566\u001b[0m terminated \u001b[38;5;241m=\u001b[39m \u001b[38;5;28;01mFalse\u001b[39;00m\n",
            "File \u001b[1;32md:\\Repo_Git\\INF8225\\.venv\\Lib\\site-packages\\gymnasium\\envs\\box2d\\car_racing.py:628\u001b[0m, in \u001b[0;36mCarRacing._render\u001b[1;34m(self, mode)\u001b[0m\n\u001b[0;32m    625\u001b[0m trans \u001b[38;5;241m=\u001b[39m pygame\u001b[38;5;241m.\u001b[39mmath\u001b[38;5;241m.\u001b[39mVector2((scroll_x, scroll_y))\u001b[38;5;241m.\u001b[39mrotate_rad(angle)\n\u001b[0;32m    626\u001b[0m trans \u001b[38;5;241m=\u001b[39m (WINDOW_W \u001b[38;5;241m/\u001b[39m \u001b[38;5;241m2\u001b[39m \u001b[38;5;241m+\u001b[39m trans[\u001b[38;5;241m0\u001b[39m], WINDOW_H \u001b[38;5;241m/\u001b[39m \u001b[38;5;241m4\u001b[39m \u001b[38;5;241m+\u001b[39m trans[\u001b[38;5;241m1\u001b[39m])\n\u001b[1;32m--> 628\u001b[0m \u001b[38;5;28;43mself\u001b[39;49m\u001b[38;5;241;43m.\u001b[39;49m\u001b[43m_render_road\u001b[49m\u001b[43m(\u001b[49m\u001b[43mzoom\u001b[49m\u001b[43m,\u001b[49m\u001b[43m \u001b[49m\u001b[43mtrans\u001b[49m\u001b[43m,\u001b[49m\u001b[43m \u001b[49m\u001b[43mangle\u001b[49m\u001b[43m)\u001b[49m\n\u001b[0;32m    629\u001b[0m \u001b[38;5;28mself\u001b[39m\u001b[38;5;241m.\u001b[39mcar\u001b[38;5;241m.\u001b[39mdraw(\n\u001b[0;32m    630\u001b[0m     \u001b[38;5;28mself\u001b[39m\u001b[38;5;241m.\u001b[39msurf,\n\u001b[0;32m    631\u001b[0m     zoom,\n\u001b[1;32m   (...)\u001b[0m\n\u001b[0;32m    634\u001b[0m     mode \u001b[38;5;129;01mnot\u001b[39;00m \u001b[38;5;129;01min\u001b[39;00m [\u001b[38;5;124m\"\u001b[39m\u001b[38;5;124mstate_pixels_list\u001b[39m\u001b[38;5;124m\"\u001b[39m, \u001b[38;5;124m\"\u001b[39m\u001b[38;5;124mstate_pixels\u001b[39m\u001b[38;5;124m\"\u001b[39m],\n\u001b[0;32m    635\u001b[0m )\n\u001b[0;32m    637\u001b[0m \u001b[38;5;28mself\u001b[39m\u001b[38;5;241m.\u001b[39msurf \u001b[38;5;241m=\u001b[39m pygame\u001b[38;5;241m.\u001b[39mtransform\u001b[38;5;241m.\u001b[39mflip(\u001b[38;5;28mself\u001b[39m\u001b[38;5;241m.\u001b[39msurf, \u001b[38;5;28;01mFalse\u001b[39;00m, \u001b[38;5;28;01mTrue\u001b[39;00m)\n",
            "File \u001b[1;32md:\\Repo_Git\\INF8225\\.venv\\Lib\\site-packages\\gymnasium\\envs\\box2d\\car_racing.py:698\u001b[0m, in \u001b[0;36mCarRacing._render_road\u001b[1;34m(self, zoom, translation, angle)\u001b[0m\n\u001b[0;32m    696\u001b[0m poly \u001b[38;5;241m=\u001b[39m [(p[\u001b[38;5;241m0\u001b[39m], p[\u001b[38;5;241m1\u001b[39m]) \u001b[38;5;28;01mfor\u001b[39;00m p \u001b[38;5;129;01min\u001b[39;00m poly]\n\u001b[0;32m    697\u001b[0m color \u001b[38;5;241m=\u001b[39m [\u001b[38;5;28mint\u001b[39m(c) \u001b[38;5;28;01mfor\u001b[39;00m c \u001b[38;5;129;01min\u001b[39;00m color]\n\u001b[1;32m--> 698\u001b[0m \u001b[38;5;28;43mself\u001b[39;49m\u001b[38;5;241;43m.\u001b[39;49m\u001b[43m_draw_colored_polygon\u001b[49m\u001b[43m(\u001b[49m\u001b[38;5;28;43mself\u001b[39;49m\u001b[38;5;241;43m.\u001b[39;49m\u001b[43msurf\u001b[49m\u001b[43m,\u001b[49m\u001b[43m \u001b[49m\u001b[43mpoly\u001b[49m\u001b[43m,\u001b[49m\u001b[43m \u001b[49m\u001b[43mcolor\u001b[49m\u001b[43m,\u001b[49m\u001b[43m \u001b[49m\u001b[43mzoom\u001b[49m\u001b[43m,\u001b[49m\u001b[43m \u001b[49m\u001b[43mtranslation\u001b[49m\u001b[43m,\u001b[49m\u001b[43m \u001b[49m\u001b[43mangle\u001b[49m\u001b[43m)\u001b[49m\n",
            "File \u001b[1;32md:\\Repo_Git\\INF8225\\.venv\\Lib\\site-packages\\gymnasium\\envs\\box2d\\car_racing.py:785\u001b[0m, in \u001b[0;36mCarRacing._draw_colored_polygon\u001b[1;34m(self, surface, poly, color, zoom, translation, angle, clip)\u001b[0m\n\u001b[0;32m    775\u001b[0m \u001b[38;5;66;03m# This checks if the polygon is out of bounds of the screen, and we skip drawing if so.\u001b[39;00m\n\u001b[0;32m    776\u001b[0m \u001b[38;5;66;03m# Instead of calculating exactly if the polygon and screen overlap,\u001b[39;00m\n\u001b[0;32m    777\u001b[0m \u001b[38;5;66;03m# we simply check if the polygon is in a larger bounding box whose dimension\u001b[39;00m\n\u001b[0;32m    778\u001b[0m \u001b[38;5;66;03m# is greater than the screen by MAX_SHAPE_DIM, which is the maximum\u001b[39;00m\n\u001b[0;32m    779\u001b[0m \u001b[38;5;66;03m# diagonal length of an environment object\u001b[39;00m\n\u001b[0;32m    780\u001b[0m \u001b[38;5;28;01mif\u001b[39;00m \u001b[38;5;129;01mnot\u001b[39;00m clip \u001b[38;5;129;01mor\u001b[39;00m \u001b[38;5;28many\u001b[39m(\n\u001b[0;32m    781\u001b[0m     (\u001b[38;5;241m-\u001b[39mMAX_SHAPE_DIM \u001b[38;5;241m<\u001b[39m\u001b[38;5;241m=\u001b[39m coord[\u001b[38;5;241m0\u001b[39m] \u001b[38;5;241m<\u001b[39m\u001b[38;5;241m=\u001b[39m WINDOW_W \u001b[38;5;241m+\u001b[39m MAX_SHAPE_DIM)\n\u001b[0;32m    782\u001b[0m     \u001b[38;5;129;01mand\u001b[39;00m (\u001b[38;5;241m-\u001b[39mMAX_SHAPE_DIM \u001b[38;5;241m<\u001b[39m\u001b[38;5;241m=\u001b[39m coord[\u001b[38;5;241m1\u001b[39m] \u001b[38;5;241m<\u001b[39m\u001b[38;5;241m=\u001b[39m WINDOW_H \u001b[38;5;241m+\u001b[39m MAX_SHAPE_DIM)\n\u001b[0;32m    783\u001b[0m     \u001b[38;5;28;01mfor\u001b[39;00m coord \u001b[38;5;129;01min\u001b[39;00m poly\n\u001b[0;32m    784\u001b[0m ):\n\u001b[1;32m--> 785\u001b[0m     \u001b[43mgfxdraw\u001b[49m\u001b[38;5;241;43m.\u001b[39;49m\u001b[43maapolygon\u001b[49m\u001b[43m(\u001b[49m\u001b[38;5;28;43mself\u001b[39;49m\u001b[38;5;241;43m.\u001b[39;49m\u001b[43msurf\u001b[49m\u001b[43m,\u001b[49m\u001b[43m \u001b[49m\u001b[43mpoly\u001b[49m\u001b[43m,\u001b[49m\u001b[43m \u001b[49m\u001b[43mcolor\u001b[49m\u001b[43m)\u001b[49m\n\u001b[0;32m    786\u001b[0m     gfxdraw\u001b[38;5;241m.\u001b[39mfilled_polygon(\u001b[38;5;28mself\u001b[39m\u001b[38;5;241m.\u001b[39msurf, poly, color)\n",
            "\u001b[1;31mKeyboardInterrupt\u001b[0m: "
          ]
        }
      ],
      "source": [
        "with wandb.init(\n",
        "\t\tconfig=config,\n",
        "\t\tproject='INF8225 - TP4',\n",
        "\t\tgroup='DQN',\n",
        "\t\tsave_code=True,\n",
        "\t\tmode=\"online\"\n",
        "\t):\n",
        "\t# Training loop\n",
        "\tenv = gym.make(\"CarRacing-v3\", render_mode=\"rgb_array\", domain_randomize=False, max_episode_steps=config[\"max_timesteps\"], continuous=config[\"continuous\"], lap_complete_percent=config[\"lap_complete_percent\"])\n",
        "\tagent = DQNAgent(env, lr=config[\"lr\"], gamma=config[\"gamma\"], batch_size=config[\"batch_size\"], memory_size=config[\"memory_size\"], epsilon_start=config[\"epsilon_start\"], epsilon_end=config[\"epsilon_end\"], epsilon_decay=config[\"epsilon_decay\"])\n",
        "\t\n",
        "\tif config[\"load_save\"]:\n",
        "\t\tagent.load()\n",
        "\t\t\n",
        "\tsuccessful_run = 0\n",
        "\n",
        "\tagent.policy_net.train()\n",
        "\tfor ep in range(config[\"max_episodes\"]):\n",
        "\t\tstate, _ = env.reset(seed=config[\"seed\"])\n",
        "\t\tstate, _ = skip_zooming(env)\n",
        "\t\tstate = transform(state)\n",
        "\t\ttotal_reward = 0\n",
        "\t\trewards = []\n",
        "\t\tdone = False\n",
        "\t\tt = 0\n",
        "\n",
        "\t\twhile not done:\n",
        "\t\t\taction_idx, epsilon = agent.select_action(state)\n",
        "\t\t\tnext_state, reward, done, truncated, _ = env.step(action_idx)\n",
        "\t\t\tdone = done or truncated\n",
        "\n",
        "\t\t\tnext_state = transform(next_state)\n",
        "\n",
        "\t\t\tagent.memory.append(state, action_idx, next_state, reward, done)\n",
        "\t\t\trewards.append(reward)\n",
        "\t\t\tstate = next_state\n",
        "\t\t\ttotal_reward += reward\n",
        "\n",
        "\t\t\tloss = agent.optimize_model()\n",
        "\n",
        "\t\t\tif t % 20 == 0:\n",
        "\t\t\t\tshow_current_frame(env, {\"Episode\": ep, \"Timestep\": t, \"Loss\": loss, \"Epsilon\": epsilon})\n",
        "\n",
        "\t\t\twandb.log({\"current_reward\": total_reward, \"timestep\": t, \"loss\": loss, \"epsilon\": epsilon})\n",
        "\n",
        "\t\t\tif (len(rewards) > config[\"max_losing_step\"] and np.max(np.array(rewards[-config[\"max_losing_step\"]:])) < 0):\n",
        "\t\t\t\tbreak\n",
        "\n",
        "\t\t\tt += 1\n",
        "\n",
        "\t\tif ep % config[\"target_update_freq\"] == 0:\n",
        "\t\t\tagent.target_net.load_state_dict(agent.policy_net.state_dict())\n",
        "\n",
        "\t\tprint(f\"Episode {ep+1}, Total Reward: {total_reward}\")\n",
        "\t\timage = wandb.Image(env.render(), caption=f\"Episode {ep}\")\n",
        "\t\twandb.log({\"episode\": ep, \"reward\": total_reward, \"image\": image, \"done\": int(done) })\n",
        "\t\t\n",
        "\t\tif done == True:\n",
        "\t\t\tsuccessful_run += 1\n",
        "\n",
        "\t\t\tif successful_run >= config[\"stop_criteria_count\"]:\n",
        "\t\t\t\tbreak\n",
        "\n",
        "\t\tagent.save()\n",
        "\t\t\n",
        "\tenv.close()"
      ]
    },
    {
      "cell_type": "markdown",
      "metadata": {
        "id": "nRqpJaHEVOV9"
      },
      "source": [
        "#### Car Racing Animation"
      ]
    },
    {
      "cell_type": "code",
      "execution_count": null,
      "metadata": {
        "id": "XTv24Jv9VOV9"
      },
      "outputs": [],
      "source": [
        "def run_agent_and_collect_frames(agent, env, seed=42):\n",
        "  state, _ = env.reset(seed=seed)\n",
        "  done = False\n",
        "  frames = []\n",
        "\n",
        "  while not done:\n",
        "    frame = env.render()\n",
        "    frames.append(frame)\n",
        "\n",
        "    preprocessed_state = agent.preprocess_state(state)\n",
        "    action = agent.select_action(preprocessed_state)\n",
        "    next_state, reward, terminated, truncated, _ = env.step(action)\n",
        "    done = terminated or truncated\n",
        "    state = next_state\n",
        "\n",
        "    return frames\n",
        "\n",
        "# Function to display frames as an animation using matplotlib\n",
        "def show_animation_frames(frames):\n",
        "  fig = plt.figure(figsize=(7, 5))\n",
        "  plt.axis('off')\n",
        "  im = plt.imshow(frames[0])\n",
        "\n",
        "  def animate(i):\n",
        "    im.set_data(frames[i])\n",
        "    return im,\n",
        "\n",
        "  anim = animation.FuncAnimation(fig, animate, frames=len(frames), interval=50, repeat=False)\n",
        "  plt.close(fig)\n",
        "  display(HTML(anim.to_jshtml()))\n",
        "\n",
        "# Run the episode with the trained agent\n",
        "frames = run_agent_and_collect_frames(agent, env)\n",
        "\n",
        "# Show the animation\n",
        "show_animation_frames(frames)\n"
      ]
    }
  ],
  "metadata": {
    "accelerator": "GPU",
    "colab": {
      "gpuType": "L4",
      "machine_shape": "hm",
      "provenance": []
    },
    "kernelspec": {
      "display_name": ".venv",
      "language": "python",
      "name": "python3"
    },
    "language_info": {
      "codemirror_mode": {
        "name": "ipython",
        "version": 3
      },
      "file_extension": ".py",
      "mimetype": "text/x-python",
      "name": "python",
      "nbconvert_exporter": "python",
      "pygments_lexer": "ipython3",
      "version": "3.12.8"
    }
  },
  "nbformat": 4,
  "nbformat_minor": 0
}
